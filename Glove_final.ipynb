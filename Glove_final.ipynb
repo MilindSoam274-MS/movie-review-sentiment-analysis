{
  "nbformat": 4,
  "nbformat_minor": 0,
  "metadata": {
    "colab": {
      "provenance": []
    },
    "kernelspec": {
      "name": "python3",
      "display_name": "Python 3"
    },
    "language_info": {
      "name": "python"
    },
    "accelerator": "TPU"
  },
  "cells": [
    {
      "cell_type": "code",
      "metadata": {
        "id": "3_IbhdtEwFjh"
      },
      "source": [],
      "execution_count": null,
      "outputs": []
    },
    {
      "cell_type": "code",
      "metadata": {
        "id": "ILC8B88PGVpi"
      },
      "source": [
        "from keras.datasets import imdb\n",
        "import pandas as pd\n",
        "import numpy as np\n",
        "from keras.layers import LSTM, Activation, Dropout, Dense, Input, Conv1D, MaxPooling1D, GlobalMaxPooling1D\n",
        "from keras.layers.embeddings import Embedding\n",
        "from keras.models import Model\n",
        "import string\n",
        "import re\n",
        "from keras.preprocessing.text import Tokenizer\n",
        "from sklearn.preprocessing import LabelBinarizer\n",
        "from keras.preprocessing.sequence import pad_sequences\n",
        "import keras\n",
        "from sklearn.model_selection import train_test_split"
      ],
      "execution_count": null,
      "outputs": []
    },
    {
      "cell_type": "code",
      "metadata": {
        "id": "DonWTsPuwWQi"
      },
      "source": [],
      "execution_count": null,
      "outputs": []
    },
    {
      "cell_type": "code",
      "metadata": {
        "id": "CnwhfL3NUaag"
      },
      "source": [
        "data = pd.read_csv('/content/drive/MyDrive/ISR Dataset/IMDB Dataset.csv')\n",
        "\n",
        "data['review'] = data['review'].str.lower()\n"
      ],
      "execution_count": null,
      "outputs": []
    },
    {
      "cell_type": "code",
      "metadata": {
        "id": "GQSSSpJpwruk"
      },
      "source": [],
      "execution_count": null,
      "outputs": []
    },
    {
      "cell_type": "code",
      "metadata": {
        "id": "V0oF19XKyi8E"
      },
      "source": [
        "stopwords = [ \"a\", \"about\", \"above\", \"after\", \"again\", \"against\", \"all\", \"am\", \"an\", \"and\", \"any\", \"are\", \"as\", \"at\", \"be\", \"because\",\n",
        "             \"been\", \"before\", \"being\", \"below\", \"between\", \"both\", \"but\", \"by\", \"could\", \"did\", \"do\", \"does\", \"doing\", \"down\", \"during\",\n",
        "             \"each\", \"few\", \"for\", \"from\", \"further\", \"had\", \"has\", \"have\", \"having\", \"he\", \"he'd\", \"he'll\", \"he's\", \"her\", \"here\",\n",
        "             \"here's\", \"hers\", \"herself\", \"him\", \"himself\", \"his\", \"how\", \"how's\", \"i\", \"i'd\", \"i'll\", \"i'm\", \"i've\", \"if\", \"in\", \"into\",\n",
        "             \"is\", \"it\", \"it's\", \"its\", \"itself\", \"let's\", \"me\", \"more\", \"most\", \"my\", \"myself\", \"nor\", \"of\", \"on\", \"once\", \"only\", \"or\",\n",
        "             \"other\", \"ought\", \"our\", \"ours\", \"ourselves\", \"out\", \"over\", \"own\", \"same\", \"she\", \"she'd\", \"she'll\", \"she's\", \"should\",\n",
        "             \"so\", \"some\", \"such\", \"than\", \"that\", \"that's\", \"the\", \"their\", \"theirs\", \"them\", \"themselves\", \"then\", \"there\", \"there's\",\n",
        "             \"these\", \"they\", \"they'd\", \"they'll\", \"they're\", \"they've\", \"this\", \"those\", \"through\", \"to\", \"too\", \"under\", \"until\", \"up\",\n",
        "             \"very\", \"was\", \"we\", \"we'd\", \"we'll\", \"we're\", \"we've\", \"were\", \"what\", \"what's\", \"when\", \"when's\", \"where\", \"where's\",\n",
        "             \"which\", \"while\", \"who\", \"who's\", \"whom\", \"why\", \"why's\", \"with\", \"would\", \"you\", \"you'd\", \"you'll\", \"you're\", \"you've\",\n",
        "             \"your\", \"yours\", \"yourself\", \"yourselves\" ]"
      ],
      "execution_count": null,
      "outputs": []
    },
    {
      "cell_type": "code",
      "metadata": {
        "id": "O20xL-WtzODy"
      },
      "source": [
        "def remove_stopwords(data):\n",
        "  data['review without stopwords'] = data['review'].apply(lambda x : ' '.join([word for word in x.split() if word not in (stopwords)]))\n",
        "  return data\n",
        "\n",
        "def remove_tags(string):\n",
        "    result = re.sub('<.*?>','',string)\n",
        "    return result\n"
      ],
      "execution_count": null,
      "outputs": []
    },
    {
      "cell_type": "code",
      "metadata": {
        "id": "HehsxBu108xh"
      },
      "source": [
        "data_without_stopwords = remove_stopwords(data)\n",
        "data_without_stopwords['clean_review']= data_without_stopwords['review without stopwords'].apply(lambda cw : remove_tags(cw))\n",
        "data_without_stopwords['clean_review'] = data_without_stopwords['clean_review'].str.replace('[{}]'.format(string.punctuation), ' ')"
      ],
      "execution_count": null,
      "outputs": []
    },
    {
      "cell_type": "code",
      "metadata": {
        "id": "H4JDXL8A3CSO",
        "colab": {
          "base_uri": "https://localhost:8080/",
          "height": 229
        },
        "outputId": "67a54a7f-297e-4d0e-c546-ea0b6d4d5c2c"
      },
      "source": [
        "data_without_stopwords.head()"
      ],
      "execution_count": null,
      "outputs": [
        {
          "output_type": "execute_result",
          "data": {
            "text/html": [
              "<div>\n",
              "<style scoped>\n",
              "    .dataframe tbody tr th:only-of-type {\n",
              "        vertical-align: middle;\n",
              "    }\n",
              "\n",
              "    .dataframe tbody tr th {\n",
              "        vertical-align: top;\n",
              "    }\n",
              "\n",
              "    .dataframe thead th {\n",
              "        text-align: right;\n",
              "    }\n",
              "</style>\n",
              "<table border=\"1\" class=\"dataframe\">\n",
              "  <thead>\n",
              "    <tr style=\"text-align: right;\">\n",
              "      <th></th>\n",
              "      <th>review</th>\n",
              "      <th>sentiment</th>\n",
              "      <th>review without stopwords</th>\n",
              "      <th>clean_review</th>\n",
              "    </tr>\n",
              "  </thead>\n",
              "  <tbody>\n",
              "    <tr>\n",
              "      <th>0</th>\n",
              "      <td>one of the other reviewers has mentioned that ...</td>\n",
              "      <td>positive</td>\n",
              "      <td>one reviewers mentioned watching just 1 oz epi...</td>\n",
              "      <td>one reviewers mentioned watching just 1 oz epi...</td>\n",
              "    </tr>\n",
              "    <tr>\n",
              "      <th>1</th>\n",
              "      <td>a wonderful little production. &lt;br /&gt;&lt;br /&gt;the...</td>\n",
              "      <td>positive</td>\n",
              "      <td>wonderful little production. &lt;br /&gt;&lt;br /&gt;the f...</td>\n",
              "      <td>wonderful little production  the filming techn...</td>\n",
              "    </tr>\n",
              "    <tr>\n",
              "      <th>2</th>\n",
              "      <td>i thought this was a wonderful way to spend ti...</td>\n",
              "      <td>positive</td>\n",
              "      <td>thought wonderful way spend time hot summer we...</td>\n",
              "      <td>thought wonderful way spend time hot summer we...</td>\n",
              "    </tr>\n",
              "    <tr>\n",
              "      <th>3</th>\n",
              "      <td>basically there's a family where a little boy ...</td>\n",
              "      <td>negative</td>\n",
              "      <td>basically family little boy (jake) thinks zomb...</td>\n",
              "      <td>basically family little boy  jake  thinks zomb...</td>\n",
              "    </tr>\n",
              "    <tr>\n",
              "      <th>4</th>\n",
              "      <td>petter mattei's \"love in the time of money\" is...</td>\n",
              "      <td>positive</td>\n",
              "      <td>petter mattei's \"love time money\" visually stu...</td>\n",
              "      <td>petter mattei s  love time money  visually stu...</td>\n",
              "    </tr>\n",
              "  </tbody>\n",
              "</table>\n",
              "</div>"
            ],
            "text/plain": [
              "                                              review  ...                                       clean_review\n",
              "0  one of the other reviewers has mentioned that ...  ...  one reviewers mentioned watching just 1 oz epi...\n",
              "1  a wonderful little production. <br /><br />the...  ...  wonderful little production  the filming techn...\n",
              "2  i thought this was a wonderful way to spend ti...  ...  thought wonderful way spend time hot summer we...\n",
              "3  basically there's a family where a little boy ...  ...  basically family little boy  jake  thinks zomb...\n",
              "4  petter mattei's \"love in the time of money\" is...  ...  petter mattei s  love time money  visually stu...\n",
              "\n",
              "[5 rows x 4 columns]"
            ]
          },
          "metadata": {
            "tags": []
          },
          "execution_count": 8
        }
      ]
    },
    {
      "cell_type": "code",
      "metadata": {
        "id": "VZFHtdni5mZE",
        "colab": {
          "base_uri": "https://localhost:8080/"
        },
        "outputId": "69653780-c7da-4372-c9bc-f46fc7bc4cb5"
      },
      "source": [
        "\n",
        "reviews = data_without_stopwords['clean_review']\n",
        "reviews"
      ],
      "execution_count": null,
      "outputs": [
        {
          "output_type": "execute_result",
          "data": {
            "text/plain": [
              "0        one reviewers mentioned watching just 1 oz epi...\n",
              "1        wonderful little production  the filming techn...\n",
              "2        thought wonderful way spend time hot summer we...\n",
              "3        basically family little boy  jake  thinks zomb...\n",
              "4        petter mattei s  love time money  visually stu...\n",
              "                               ...                        \n",
              "49995    thought movie right good job  wasn t creative ...\n",
              "49996    bad plot  bad dialogue  bad acting  idiotic di...\n",
              "49997    catholic taught parochial elementary schools n...\n",
              "49998    going disagree previous comment side maltin on...\n",
              "49999    no one expects star trek movies high art  fans...\n",
              "Name: clean_review, Length: 50000, dtype: object"
            ]
          },
          "metadata": {
            "tags": []
          },
          "execution_count": 9
        }
      ]
    },
    {
      "cell_type": "code",
      "metadata": {
        "id": "fSMjGYrUU1jX"
      },
      "source": [
        "reviews_list = []\n",
        "for i in range(len(reviews)):\n",
        "  reviews_list.append(reviews[i])\n",
        "\n"
      ],
      "execution_count": null,
      "outputs": []
    },
    {
      "cell_type": "code",
      "metadata": {
        "id": "urgoMx7UaeJz"
      },
      "source": [
        "sentiment = data_without_stopwords['sentiment']"
      ],
      "execution_count": null,
      "outputs": []
    },
    {
      "cell_type": "code",
      "metadata": {
        "id": "tjY5K71YWVe4"
      },
      "source": [
        "y = np.array(list(map(lambda x: 1 if x==\"positive\" else 0, sentiment)))"
      ],
      "execution_count": null,
      "outputs": []
    },
    {
      "cell_type": "code",
      "metadata": {
        "id": "cqdMpZR0Wpg8",
        "colab": {
          "base_uri": "https://localhost:8080/"
        },
        "outputId": "5b02e0e1-338d-4197-bee1-c088ac9df18d"
      },
      "source": [
        "y"
      ],
      "execution_count": null,
      "outputs": [
        {
          "output_type": "execute_result",
          "data": {
            "text/plain": [
              "array([1, 1, 1, ..., 0, 0, 0])"
            ]
          },
          "metadata": {
            "tags": []
          },
          "execution_count": 13
        }
      ]
    },
    {
      "cell_type": "code",
      "metadata": {
        "id": "fqkDtVPMYeeT"
      },
      "source": [
        "X_train, X_test,Y_train, Y_test = train_test_split(reviews_list, y, test_size=0.2, random_state = 45)"
      ],
      "execution_count": null,
      "outputs": []
    },
    {
      "cell_type": "code",
      "metadata": {
        "id": "8446f0TtQl-3",
        "colab": {
          "base_uri": "https://localhost:8080/"
        },
        "outputId": "5779b6a3-1386-44a5-d3e1-99a33f9e45d9"
      },
      "source": [
        "len(Y_train)"
      ],
      "execution_count": null,
      "outputs": [
        {
          "output_type": "execute_result",
          "data": {
            "text/plain": [
              "40000"
            ]
          },
          "metadata": {
            "tags": []
          },
          "execution_count": 15
        }
      ]
    },
    {
      "cell_type": "code",
      "metadata": {
        "id": "ujoI8P64P12P"
      },
      "source": [
        "tokenizer = Tokenizer(num_words=5000)\n",
        "tokenizer.fit_on_texts(X_train)"
      ],
      "execution_count": null,
      "outputs": []
    },
    {
      "cell_type": "code",
      "metadata": {
        "id": "0rZPh61RP5gH"
      },
      "source": [
        "words_to_index = tokenizer.word_index"
      ],
      "execution_count": null,
      "outputs": []
    },
    {
      "cell_type": "code",
      "metadata": {
        "id": "nj1lFsRPP7G7",
        "colab": {
          "base_uri": "https://localhost:8080/"
        },
        "outputId": "7fe14125-ce3c-41a8-804c-9b0a87741a56"
      },
      "source": [
        "len(words_to_index)"
      ],
      "execution_count": null,
      "outputs": [
        {
          "output_type": "execute_result",
          "data": {
            "text/plain": [
              "95419"
            ]
          },
          "metadata": {
            "tags": []
          },
          "execution_count": 18
        }
      ]
    },
    {
      "cell_type": "code",
      "metadata": {
        "id": "4cfT3r4nc5GE"
      },
      "source": [
        "def read_glove_vector(glove_vec):\n",
        "  with open(glove_vec, 'r', encoding='UTF-8') as f:\n",
        "    words = set()\n",
        "    word_to_vec_map = {}\n",
        "    for line in f:\n",
        "      w_line = line.split()\n",
        "      curr_word = w_line[0]\n",
        "      word_to_vec_map[curr_word] = np.array(w_line[1:], dtype=np.float64)\n",
        "\n",
        "\n",
        "\n",
        "  return word_to_vec_map\n",
        ""
      ],
      "execution_count": null,
      "outputs": []
    },
    {
      "cell_type": "code",
      "metadata": {
        "id": "cJLJsKibxFAZ"
      },
      "source": [],
      "execution_count": null,
      "outputs": []
    },
    {
      "cell_type": "code",
      "metadata": {
        "id": "S4QJe7iZeDC1"
      },
      "source": [
        "word_to_vec_map = read_glove_vector('/content/drive/MyDrive/ISR Dataset/glove.6B.50d.txt')"
      ],
      "execution_count": null,
      "outputs": []
    },
    {
      "cell_type": "code",
      "metadata": {
        "id": "_VF9U14qjjXw"
      },
      "source": [
        "maxLen = 150\n"
      ],
      "execution_count": null,
      "outputs": []
    },
    {
      "cell_type": "code",
      "metadata": {
        "id": "CRUAIoHOxSuQ"
      },
      "source": [],
      "execution_count": null,
      "outputs": []
    },
    {
      "cell_type": "code",
      "metadata": {
        "id": "Am3MZl2fobDn"
      },
      "source": [
        "\n",
        "vocab_len = len(words_to_index)\n",
        "embed_vector_len = word_to_vec_map['moon'].shape[0]\n",
        "\n",
        "emb_matrix = np.zeros((vocab_len, embed_vector_len))\n",
        "\n",
        "for word, index in words_to_index.items():\n",
        "  embedding_vector = word_to_vec_map.get(word)\n",
        "  if embedding_vector is not None:\n",
        "    emb_matrix[index, :] = embedding_vector\n",
        "\n",
        "embedding_layer = Embedding(input_dim=vocab_len, output_dim=embed_vector_len, input_length=maxLen, weights = [emb_matrix], trainable=False)\n",
        "\n",
        "\n",
        "\n",
        "\n"
      ],
      "execution_count": null,
      "outputs": []
    },
    {
      "cell_type": "code",
      "metadata": {
        "id": "DlqxRxizpZRl"
      },
      "source": [
        "def imdb_rating(input_shape):\n",
        "\n",
        "  X_indices = Input(input_shape)\n",
        "\n",
        "  embeddings = embedding_layer(X_indices)\n",
        "\n",
        "  X = LSTM(128, return_sequences=True)(embeddings)\n",
        "\n",
        "  X = Dropout(0.6)(X)\n",
        "\n",
        "  X = LSTM(128, return_sequences=True)(X)\n",
        "\n",
        "  X = Dropout(0.6)(X)\n",
        "\n",
        "  X = LSTM(128)(X)\n",
        "\n",
        "  X = Dense(1, activation='sigmoid')(X)\n",
        "\n",
        "  model = Model(inputs=X_indices, outputs=X)\n",
        "\n",
        "  return model"
      ],
      "execution_count": null,
      "outputs": []
    },
    {
      "cell_type": "code",
      "metadata": {
        "id": "L75PYl9Z2F1d"
      },
      "source": [
        "def conv1d_model(input_shape):\n",
        "\n",
        "  X_indices = Input(input_shape)\n",
        "\n",
        "  embeddings = embedding_layer(X_indices)\n",
        "\n",
        "  X = Conv1D(512,3,activation='relu')(embeddings)\n",
        "\n",
        "  X = MaxPooling1D(3)(X)\n",
        "\n",
        "  X = Conv1D(256,3,activation='relu')(X)\n",
        "\n",
        "  X = MaxPooling1D(3)(X)\n",
        "\n",
        "  X = Conv1D(256,3,activation='relu')(X)\n",
        "  X = Dropout(0.8)(X)\n",
        "  X = MaxPooling1D(3)(X)\n",
        "\n",
        "  X = GlobalMaxPooling1D()(X)\n",
        "\n",
        "  X = Dense(256, activation='relu')(X)\n",
        "  X = Dense(1, activation='sigmoid')(X)\n",
        "\n",
        "  model = Model(inputs=X_indices, outputs=X)\n",
        "\n",
        "  return model\n",
        "\n",
        "\n",
        "\n",
        "\n",
        "\n",
        "\n"
      ],
      "execution_count": null,
      "outputs": []
    },
    {
      "cell_type": "code",
      "metadata": {
        "id": "PeB6unmRpa2a",
        "colab": {
          "base_uri": "https://localhost:8080/"
        },
        "outputId": "593b0f82-6f9e-4919-9617-2ca74324efcf"
      },
      "source": [
        "model = imdb_rating((maxLen,))\n",
        "model.summary()"
      ],
      "execution_count": null,
      "outputs": [
        {
          "output_type": "stream",
          "text": [
            "Model: \"model\"\n",
            "_________________________________________________________________\n",
            "Layer (type)                 Output Shape              Param #   \n",
            "=================================================================\n",
            "input_1 (InputLayer)         [(None, 150)]             0         \n",
            "_________________________________________________________________\n",
            "embedding (Embedding)        (None, 150, 50)           4770950   \n",
            "_________________________________________________________________\n",
            "lstm (LSTM)                  (None, 150, 128)          91648     \n",
            "_________________________________________________________________\n",
            "dropout (Dropout)            (None, 150, 128)          0         \n",
            "_________________________________________________________________\n",
            "lstm_1 (LSTM)                (None, 150, 128)          131584    \n",
            "_________________________________________________________________\n",
            "dropout_1 (Dropout)          (None, 150, 128)          0         \n",
            "_________________________________________________________________\n",
            "lstm_2 (LSTM)                (None, 128)               131584    \n",
            "_________________________________________________________________\n",
            "dense (Dense)                (None, 1)                 129       \n",
            "=================================================================\n",
            "Total params: 5,125,895\n",
            "Trainable params: 354,945\n",
            "Non-trainable params: 4,770,950\n",
            "_________________________________________________________________\n"
          ],
          "name": "stdout"
        }
      ]
    },
    {
      "cell_type": "code",
      "metadata": {
        "colab": {
          "base_uri": "https://localhost:8080/"
        },
        "id": "gppZiV3h3wH2",
        "outputId": "3b526179-f266-4013-cf43-2addefe11006"
      },
      "source": [
        "model_1d = conv1d_model((maxLen,))\n",
        "model_1d.summary()"
      ],
      "execution_count": null,
      "outputs": [
        {
          "output_type": "stream",
          "text": [
            "Model: \"model_1\"\n",
            "_________________________________________________________________\n",
            "Layer (type)                 Output Shape              Param #   \n",
            "=================================================================\n",
            "input_2 (InputLayer)         [(None, 150)]             0         \n",
            "_________________________________________________________________\n",
            "embedding (Embedding)        (None, 150, 50)           4770950   \n",
            "_________________________________________________________________\n",
            "conv1d (Conv1D)              (None, 148, 512)          77312     \n",
            "_________________________________________________________________\n",
            "max_pooling1d (MaxPooling1D) (None, 49, 512)           0         \n",
            "_________________________________________________________________\n",
            "conv1d_1 (Conv1D)            (None, 47, 256)           393472    \n",
            "_________________________________________________________________\n",
            "max_pooling1d_1 (MaxPooling1 (None, 15, 256)           0         \n",
            "_________________________________________________________________\n",
            "conv1d_2 (Conv1D)            (None, 13, 256)           196864    \n",
            "_________________________________________________________________\n",
            "dropout_2 (Dropout)          (None, 13, 256)           0         \n",
            "_________________________________________________________________\n",
            "max_pooling1d_2 (MaxPooling1 (None, 4, 256)            0         \n",
            "_________________________________________________________________\n",
            "global_max_pooling1d (Global (None, 256)               0         \n",
            "_________________________________________________________________\n",
            "dense_1 (Dense)              (None, 256)               65792     \n",
            "_________________________________________________________________\n",
            "dense_2 (Dense)              (None, 1)                 257       \n",
            "=================================================================\n",
            "Total params: 5,504,647\n",
            "Trainable params: 733,697\n",
            "Non-trainable params: 4,770,950\n",
            "_________________________________________________________________\n"
          ],
          "name": "stdout"
        }
      ]
    },
    {
      "cell_type": "code",
      "metadata": {
        "id": "_Hc0kXERxXeU"
      },
      "source": [],
      "execution_count": null,
      "outputs": []
    },
    {
      "cell_type": "code",
      "metadata": {
        "id": "Z_ygaA18uv9Z"
      },
      "source": [
        "X_train_indices = tokenizer.texts_to_sequences(X_train)"
      ],
      "execution_count": null,
      "outputs": []
    },
    {
      "cell_type": "code",
      "metadata": {
        "id": "NSdM8mIMRRnM",
        "colab": {
          "base_uri": "https://localhost:8080/"
        },
        "outputId": "ee2f24a3-47c1-4883-99e5-d64373f34bbd"
      },
      "source": [
        "X_train_indices = pad_sequences(X_train_indices, maxlen=maxLen, padding='post')\n",
        "X_train_indices.shape"
      ],
      "execution_count": null,
      "outputs": [
        {
          "output_type": "execute_result",
          "data": {
            "text/plain": [
              "(40000, 150)"
            ]
          },
          "metadata": {
            "tags": []
          },
          "execution_count": 28
        }
      ]
    },
    {
      "cell_type": "code",
      "metadata": {
        "id": "UQ09l2WL4jhN"
      },
      "source": [
        "adam = keras.optimizers.Adam(learning_rate = 0.0001)\n",
        "model_1d.compile(optimizer=adam, loss='binary_crossentropy', metrics=['accuracy'])"
      ],
      "execution_count": null,
      "outputs": []
    },
    {
      "cell_type": "code",
      "metadata": {
        "colab": {
          "base_uri": "https://localhost:8080/"
        },
        "id": "wgAAjTim4o2E",
        "outputId": "83b69ddc-4f2b-4d13-e3e1-7205cf13ed90"
      },
      "source": [
        "model_1d.fit(X_train_indices, Y_train, batch_size=64, epochs=15)"
      ],
      "execution_count": null,
      "outputs": [
        {
          "output_type": "stream",
          "text": [
            "Epoch 1/15\n",
            "625/625 [==============================] - 214s 341ms/step - loss: 0.6198 - accuracy: 0.6440\n",
            "Epoch 2/15\n",
            "625/625 [==============================] - 209s 334ms/step - loss: 0.4746 - accuracy: 0.7732\n",
            "Epoch 3/15\n",
            "625/625 [==============================] - 206s 330ms/step - loss: 0.4209 - accuracy: 0.8074\n",
            "Epoch 4/15\n",
            "625/625 [==============================] - 206s 330ms/step - loss: 0.3887 - accuracy: 0.8233\n",
            "Epoch 5/15\n",
            "625/625 [==============================] - 206s 329ms/step - loss: 0.3648 - accuracy: 0.8363\n",
            "Epoch 6/15\n",
            "625/625 [==============================] - 206s 329ms/step - loss: 0.3378 - accuracy: 0.8534\n",
            "Epoch 7/15\n",
            "625/625 [==============================] - 205s 328ms/step - loss: 0.3134 - accuracy: 0.8639\n",
            "Epoch 8/15\n",
            "625/625 [==============================] - 204s 326ms/step - loss: 0.2878 - accuracy: 0.8780\n",
            "Epoch 9/15\n",
            "625/625 [==============================] - 204s 327ms/step - loss: 0.2619 - accuracy: 0.8923\n",
            "Epoch 10/15\n",
            "625/625 [==============================] - 208s 332ms/step - loss: 0.2313 - accuracy: 0.9064\n",
            "Epoch 11/15\n",
            "625/625 [==============================] - 209s 334ms/step - loss: 0.2020 - accuracy: 0.9197\n",
            "Epoch 12/15\n",
            "625/625 [==============================] - 210s 335ms/step - loss: 0.1697 - accuracy: 0.9336\n",
            "Epoch 13/15\n",
            "625/625 [==============================] - 207s 331ms/step - loss: 0.1352 - accuracy: 0.9497\n",
            "Epoch 14/15\n",
            "625/625 [==============================] - 206s 330ms/step - loss: 0.0978 - accuracy: 0.9657\n",
            "Epoch 15/15\n",
            "625/625 [==============================] - 206s 329ms/step - loss: 0.0882 - accuracy: 0.9672\n"
          ],
          "name": "stdout"
        },
        {
          "output_type": "execute_result",
          "data": {
            "text/plain": [
              "<tensorflow.python.keras.callbacks.History at 0x7fca9752e690>"
            ]
          },
          "metadata": {
            "tags": []
          },
          "execution_count": 30
        }
      ]
    },
    {
      "cell_type": "code",
      "metadata": {
        "id": "l43w_Xef9qtV"
      },
      "source": [],
      "execution_count": null,
      "outputs": []
    },
    {
      "cell_type": "code",
      "metadata": {
        "id": "mwYyQk7_JvYg"
      },
      "source": [
        "adam = keras.optimizers.Adam(learning_rate = 0.0001)\n",
        "model.compile(optimizer=adam, loss='binary_crossentropy', metrics=['accuracy'])"
      ],
      "execution_count": null,
      "outputs": []
    },
    {
      "cell_type": "code",
      "metadata": {
        "id": "pZphzSinHwPO",
        "colab": {
          "base_uri": "https://localhost:8080/"
        },
        "outputId": "b0be0bee-3091-4c25-97a7-d09a7e2bf752"
      },
      "source": [
        "model.fit(X_train_indices, Y_train, batch_size=64, epochs=15)"
      ],
      "execution_count": null,
      "outputs": [
        {
          "output_type": "stream",
          "text": [
            "Epoch 1/15\n",
            "625/625 [==============================] - 583s 926ms/step - loss: 0.6276 - accuracy: 0.6233\n",
            "Epoch 2/15\n",
            "625/625 [==============================] - 581s 929ms/step - loss: 0.4958 - accuracy: 0.7641\n",
            "Epoch 3/15\n",
            "625/625 [==============================] - 581s 929ms/step - loss: 0.4656 - accuracy: 0.7781\n",
            "Epoch 4/15\n",
            "625/625 [==============================] - 575s 920ms/step - loss: 0.4297 - accuracy: 0.8013\n",
            "Epoch 5/15\n",
            "625/625 [==============================] - 570s 912ms/step - loss: 0.4078 - accuracy: 0.8135\n",
            "Epoch 6/15\n",
            "625/625 [==============================] - 576s 922ms/step - loss: 0.3891 - accuracy: 0.8241\n",
            "Epoch 7/15\n",
            "625/625 [==============================] - 572s 916ms/step - loss: 0.3779 - accuracy: 0.8324\n",
            "Epoch 8/15\n",
            "625/625 [==============================] - 584s 934ms/step - loss: 0.3706 - accuracy: 0.8357\n",
            "Epoch 9/15\n",
            "625/625 [==============================] - 575s 920ms/step - loss: 0.3706 - accuracy: 0.8371\n",
            "Epoch 10/15\n",
            "625/625 [==============================] - 574s 918ms/step - loss: 0.3596 - accuracy: 0.8437\n",
            "Epoch 11/15\n",
            "625/625 [==============================] - 574s 919ms/step - loss: 0.3560 - accuracy: 0.8419\n",
            "Epoch 12/15\n",
            "625/625 [==============================] - 585s 935ms/step - loss: 0.3506 - accuracy: 0.8468\n",
            "Epoch 13/15\n",
            "625/625 [==============================] - 580s 928ms/step - loss: 0.3458 - accuracy: 0.8480\n",
            "Epoch 14/15\n",
            "625/625 [==============================] - 577s 924ms/step - loss: 0.3390 - accuracy: 0.8526\n",
            "Epoch 15/15\n",
            "625/625 [==============================] - 573s 917ms/step - loss: 0.3385 - accuracy: 0.8553\n"
          ],
          "name": "stdout"
        },
        {
          "output_type": "execute_result",
          "data": {
            "text/plain": [
              "<tensorflow.python.keras.callbacks.History at 0x7fca96f38310>"
            ]
          },
          "metadata": {
            "tags": []
          },
          "execution_count": 32
        }
      ]
    },
    {
      "cell_type": "code",
      "metadata": {
        "id": "mFCd5iB2e70u"
      },
      "source": [],
      "execution_count": null,
      "outputs": []
    },
    {
      "cell_type": "code",
      "metadata": {
        "id": "oVY1gYalXkO7"
      },
      "source": [
        "X_test_indices = tokenizer.texts_to_sequences(X_test)\n",
        "\n",
        "X_test_indices = pad_sequences(X_test_indices, maxlen=maxLen, padding='post')"
      ],
      "execution_count": null,
      "outputs": []
    },
    {
      "cell_type": "code",
      "metadata": {
        "id": "_-Y5fW-xszbc",
        "colab": {
          "base_uri": "https://localhost:8080/"
        },
        "outputId": "6965bce7-2b71-45db-f525-84178e84e048"
      },
      "source": [
        "model.evaluate(X_test_indices, Y_test)"
      ],
      "execution_count": null,
      "outputs": [
        {
          "output_type": "stream",
          "text": [
            "313/313 [==============================] - 46s 140ms/step - loss: 0.3548 - accuracy: 0.8462\n"
          ],
          "name": "stdout"
        },
        {
          "output_type": "execute_result",
          "data": {
            "text/plain": [
              "[0.3547525703907013, 0.8461999893188477]"
            ]
          },
          "metadata": {
            "tags": []
          },
          "execution_count": 34
        }
      ]
    },
    {
      "cell_type": "code",
      "metadata": {
        "colab": {
          "base_uri": "https://localhost:8080/"
        },
        "id": "EitDh0YpDo2e",
        "outputId": "24f72a57-884a-4635-a3df-d86f80f9a6d4"
      },
      "source": [
        "model_1d.evaluate(X_test_indices, Y_test)"
      ],
      "execution_count": null,
      "outputs": [
        {
          "output_type": "stream",
          "text": [
            "313/313 [==============================] - 15s 46ms/step - loss: 0.3663 - accuracy: 0.8362\n"
          ],
          "name": "stdout"
        },
        {
          "output_type": "execute_result",
          "data": {
            "text/plain": [
              "[0.3663209080696106, 0.8361999988555908]"
            ]
          },
          "metadata": {
            "tags": []
          },
          "execution_count": 35
        }
      ]
    },
    {
      "cell_type": "code",
      "metadata": {
        "id": "oMWuB3G_fYCW"
      },
      "source": [],
      "execution_count": null,
      "outputs": []
    },
    {
      "cell_type": "code",
      "metadata": {
        "id": "-SKL-SzCs9e4"
      },
      "source": [
        "preds = model_1d.predict(X_test_indices)"
      ],
      "execution_count": null,
      "outputs": []
    },
    {
      "cell_type": "code",
      "metadata": {
        "id": "w_vyAiZZ-7hy",
        "colab": {
          "base_uri": "https://localhost:8080/",
          "height": 106
        },
        "outputId": "11fd3911-f9d3-4997-872d-e062650dd0b4"
      },
      "source": [
        "n = np.random.randint(0,9999)\n",
        "\n",
        "X_test[n]\n"
      ],
      "execution_count": null,
      "outputs": [
        {
          "output_type": "execute_result",
          "data": {
            "application/vnd.google.colaboratory.intrinsic+json": {
              "type": "string"
            },
            "text/plain": [
              "'three main problems film  rather three reasons isn t even contender worthy serious consideration firstly  always going true  not nearly good books  however  least expected reflect sapkowski s wit depth secondly production  fantasy movies are  opinion  hardest produce well  everything props costumes  scenery  stunts  especially  cgi substandard finally  many subjective  just can t quite take acting seriously  wasn t brought poland can t really judge  may lack familiarity films polish  lines seem amateurishly delivered    casting better well in summation  possible redeeming feature film remainder plot shining through  not unlike diamond ring rotting cadaver on separate note heard books coming english  haven t seen yet can t imagine one even begin translate them    ask english speaking reader bare mind judging book '"
            ]
          },
          "metadata": {
            "tags": []
          },
          "execution_count": 43
        }
      ]
    },
    {
      "cell_type": "code",
      "metadata": {
        "id": "loAUmln6fzjU"
      },
      "source": [],
      "execution_count": null,
      "outputs": []
    },
    {
      "cell_type": "code",
      "metadata": {
        "id": "kTtNGnSj0xJ9",
        "colab": {
          "base_uri": "https://localhost:8080/"
        },
        "outputId": "1d141816-e4d8-4f93-8d12-863e4946b15a"
      },
      "source": [
        "if preds[n] > 0.5:\n",
        "  print('predicted sentiment : positive')\n",
        "else:\n",
        "  print('precicted sentiment : negative')\n",
        "\n",
        "if (Y_test[n] == 1):\n",
        "  print('correct sentiment : positive')\n",
        "else:\n",
        "  print('correct sentiment : negative')\n"
      ],
      "execution_count": null,
      "outputs": [
        {
          "output_type": "stream",
          "text": [
            "precicted sentiment : negative\n",
            "correct sentiment : negative\n"
          ],
          "name": "stdout"
        }
      ]
    },
    {
      "cell_type": "code",
      "metadata": {
        "id": "t1L2jKAcf-PS"
      },
      "source": [],
      "execution_count": null,
      "outputs": []
    },
    {
      "cell_type": "code",
      "metadata": {
        "id": "qYeroDRh_GSQ",
        "colab": {
          "base_uri": "https://localhost:8080/"
        },
        "outputId": "86d7cd26-40ce-4c36-fb8b-478b116b60bf"
      },
      "source": [
        "preds[n]"
      ],
      "execution_count": null,
      "outputs": [
        {
          "output_type": "execute_result",
          "data": {
            "text/plain": [
              "array([0.46030152], dtype=float32)"
            ]
          },
          "metadata": {
            "tags": []
          },
          "execution_count": 45
        }
      ]
    },
    {
      "cell_type": "code",
      "metadata": {
        "id": "Dp5uWkqlgDAN"
      },
      "source": [
        "preds1 = model.predict(X_test_indices)"
      ],
      "execution_count": null,
      "outputs": []
    },
    {
      "cell_type": "code",
      "metadata": {
        "colab": {
          "base_uri": "https://localhost:8080/",
          "height": 88
        },
        "id": "v5X1SWXugDAO",
        "outputId": "f2c09f28-afb9-4941-c8c1-2a8058e19ef2"
      },
      "source": [
        "n = np.random.randint(0,9999)\n",
        "\n",
        "X_test[n]\n"
      ],
      "execution_count": null,
      "outputs": [
        {
          "output_type": "execute_result",
          "data": {
            "application/vnd.google.colaboratory.intrinsic+json": {
              "type": "string"
            },
            "text/plain": [
              "'artistic standpoint  movie fails entertain provide moral resolution  plot hard follow  one all  acting tough stomach  dialogue cliche clearly written somebody doesn t know english  cinematography worth watching movie  although can still see flaws picture as asian american female  movie angered proved narrow minded people can be  politically speaking  putting asian women disgraceful roles outlawed  perpetuating stereotypes asian prostitutes not bad self esteem asian women  also country whole  feel lead actress played maya exploitation must faced playing role as americans  please avoid movie  art used develop tolerance respect one another  not hold back '"
            ]
          },
          "metadata": {
            "tags": []
          },
          "execution_count": 46
        }
      ]
    },
    {
      "cell_type": "code",
      "metadata": {
        "id": "LFnjhON7ghkg"
      },
      "source": [],
      "execution_count": null,
      "outputs": []
    },
    {
      "cell_type": "code",
      "metadata": {
        "colab": {
          "base_uri": "https://localhost:8080/"
        },
        "id": "GVpFM4yfgh2v",
        "outputId": "573d8d77-615a-4640-ec4e-1d62b241897c"
      },
      "source": [
        "if preds1[n] > 0.5:\n",
        "  print('predicted sentiment : positive')\n",
        "else:\n",
        "  print('precicted sentiment : negative')\n",
        "\n",
        "if (Y_test[n] == 1):\n",
        "  print('correct sentiment : positive')\n",
        "else:\n",
        "  print('correct sentiment : negative')\n"
      ],
      "execution_count": null,
      "outputs": [
        {
          "output_type": "stream",
          "text": [
            "precicted sentiment : negative\n",
            "correct sentiment : negative\n"
          ],
          "name": "stdout"
        }
      ]
    },
    {
      "cell_type": "code",
      "metadata": {
        "id": "532CAu9Lgmgg"
      },
      "source": [],
      "execution_count": null,
      "outputs": []
    },
    {
      "cell_type": "code",
      "metadata": {
        "colab": {
          "base_uri": "https://localhost:8080/"
        },
        "id": "vqpSOmcOg48f",
        "outputId": "8f0be67d-1fa2-4cb7-a03d-7a58ed1761e0"
      },
      "source": [
        "preds1[n]"
      ],
      "execution_count": null,
      "outputs": [
        {
          "output_type": "execute_result",
          "data": {
            "text/plain": [
              "array([0.02735806], dtype=float32)"
            ]
          },
          "metadata": {
            "tags": []
          },
          "execution_count": 48
        }
      ]
    },
    {
      "cell_type": "code",
      "metadata": {
        "id": "2_JZTuwog8Bl"
      },
      "source": [],
      "execution_count": null,
      "outputs": []
    },
    {
      "cell_type": "code",
      "metadata": {
        "id": "CRX1lXzyAiCk",
        "colab": {
          "base_uri": "https://localhost:8080/"
        },
        "outputId": "8650db82-db18-4c9e-d211-076dee348fd3"
      },
      "source": [
        "Y_test[n]"
      ],
      "execution_count": null,
      "outputs": [
        {
          "output_type": "execute_result",
          "data": {
            "text/plain": [
              "0"
            ]
          },
          "metadata": {
            "tags": []
          },
          "execution_count": 49
        }
      ]
    },
    {
      "cell_type": "code",
      "metadata": {
        "id": "KH9X8dwdhogy"
      },
      "source": [
        "model_1d.save_weights('/content/drive/MyDrive/ISR Dataset/imdb_weights_con1vd.hdf5')"
      ],
      "execution_count": null,
      "outputs": []
    },
    {
      "cell_type": "code",
      "metadata": {
        "id": "lnkNDSGFiUHS"
      },
      "source": [
        "model.save_weights('/content/drive/MyDrive/ISR Dataset/imdb_weights_lstm.hdf5')"
      ],
      "execution_count": null,
      "outputs": []
    },
    {
      "cell_type": "code",
      "metadata": {
        "id": "SvktKr_Wim5M"
      },
      "source": [],
      "execution_count": null,
      "outputs": []
    },
    {
      "cell_type": "code",
      "metadata": {
        "id": "mrs5rNzXisdD"
      },
      "source": [
        "reviews_list_idx = tokenizer.texts_to_sequences(reviews_list)"
      ],
      "execution_count": null,
      "outputs": []
    },
    {
      "cell_type": "code",
      "metadata": {
        "id": "92ylIHOniyBM"
      },
      "source": [],
      "execution_count": null,
      "outputs": []
    },
    {
      "cell_type": "code",
      "metadata": {
        "id": "o5VqbyPE2JXs"
      },
      "source": [
        "def add_score_predictions(data, reviews_list_idx):\n",
        "\n",
        "  data['sentiment score'] = 0\n",
        "\n",
        "  reviews_list_idx = pad_sequences(reviews_list_idx, maxlen=maxLen, padding='post')\n",
        "\n",
        "  review_preds = model.predict(reviews_list_idx)\n",
        "\n",
        "  data['sentiment score'] = review_preds\n",
        "\n",
        "  pred_sentiment = np.array(list(map(lambda x : 'positive' if x > 0.5 else 'negative',review_preds)))\n",
        "\n",
        "  data['predicted sentiment'] = 0\n",
        "\n",
        "  data['predicted sentiment'] = pred_sentiment\n",
        "\n",
        "  return data\n",
        "\n",
        ""
      ],
      "execution_count": null,
      "outputs": []
    },
    {
      "cell_type": "code",
      "metadata": {
        "id": "M2SPaF7N3C3g"
      },
      "source": [
        "data = add_score_predictions(data, reviews_list_idx)"
      ],
      "execution_count": null,
      "outputs": []
    },
    {
      "cell_type": "code",
      "metadata": {
        "id": "vpHAcJ4c3MYN",
        "colab": {
          "base_uri": "https://localhost:8080/",
          "height": 502
        },
        "outputId": "6cafe24f-ff3f-4fb0-d28b-9877af9f6b29"
      },
      "source": [
        "data"
      ],
      "execution_count": null,
      "outputs": [
        {
          "output_type": "execute_result",
          "data": {
            "text/html": [
              "<div>\n",
              "<style scoped>\n",
              "    .dataframe tbody tr th:only-of-type {\n",
              "        vertical-align: middle;\n",
              "    }\n",
              "\n",
              "    .dataframe tbody tr th {\n",
              "        vertical-align: top;\n",
              "    }\n",
              "\n",
              "    .dataframe thead th {\n",
              "        text-align: right;\n",
              "    }\n",
              "</style>\n",
              "<table border=\"1\" class=\"dataframe\">\n",
              "  <thead>\n",
              "    <tr style=\"text-align: right;\">\n",
              "      <th></th>\n",
              "      <th>review</th>\n",
              "      <th>sentiment</th>\n",
              "      <th>review without stopwords</th>\n",
              "      <th>clean_review</th>\n",
              "      <th>sentiment score</th>\n",
              "      <th>predicted sentiment</th>\n",
              "    </tr>\n",
              "  </thead>\n",
              "  <tbody>\n",
              "    <tr>\n",
              "      <th>0</th>\n",
              "      <td>one of the other reviewers has mentioned that ...</td>\n",
              "      <td>positive</td>\n",
              "      <td>one reviewers mentioned watching just 1 oz epi...</td>\n",
              "      <td>one reviewers mentioned watching just 1 oz epi...</td>\n",
              "      <td>0.763237</td>\n",
              "      <td>positive</td>\n",
              "    </tr>\n",
              "    <tr>\n",
              "      <th>1</th>\n",
              "      <td>a wonderful little production. &lt;br /&gt;&lt;br /&gt;the...</td>\n",
              "      <td>positive</td>\n",
              "      <td>wonderful little production. &lt;br /&gt;&lt;br /&gt;the f...</td>\n",
              "      <td>wonderful little production  the filming techn...</td>\n",
              "      <td>0.981091</td>\n",
              "      <td>positive</td>\n",
              "    </tr>\n",
              "    <tr>\n",
              "      <th>2</th>\n",
              "      <td>i thought this was a wonderful way to spend ti...</td>\n",
              "      <td>positive</td>\n",
              "      <td>thought wonderful way spend time hot summer we...</td>\n",
              "      <td>thought wonderful way spend time hot summer we...</td>\n",
              "      <td>0.981353</td>\n",
              "      <td>positive</td>\n",
              "    </tr>\n",
              "    <tr>\n",
              "      <th>3</th>\n",
              "      <td>basically there's a family where a little boy ...</td>\n",
              "      <td>negative</td>\n",
              "      <td>basically family little boy (jake) thinks zomb...</td>\n",
              "      <td>basically family little boy  jake  thinks zomb...</td>\n",
              "      <td>0.017200</td>\n",
              "      <td>negative</td>\n",
              "    </tr>\n",
              "    <tr>\n",
              "      <th>4</th>\n",
              "      <td>petter mattei's \"love in the time of money\" is...</td>\n",
              "      <td>positive</td>\n",
              "      <td>petter mattei's \"love time money\" visually stu...</td>\n",
              "      <td>petter mattei s  love time money  visually stu...</td>\n",
              "      <td>0.988156</td>\n",
              "      <td>positive</td>\n",
              "    </tr>\n",
              "    <tr>\n",
              "      <th>...</th>\n",
              "      <td>...</td>\n",
              "      <td>...</td>\n",
              "      <td>...</td>\n",
              "      <td>...</td>\n",
              "      <td>...</td>\n",
              "      <td>...</td>\n",
              "    </tr>\n",
              "    <tr>\n",
              "      <th>49995</th>\n",
              "      <td>i thought this movie did a down right good job...</td>\n",
              "      <td>positive</td>\n",
              "      <td>thought movie right good job. wasn't creative ...</td>\n",
              "      <td>thought movie right good job  wasn t creative ...</td>\n",
              "      <td>0.847537</td>\n",
              "      <td>positive</td>\n",
              "    </tr>\n",
              "    <tr>\n",
              "      <th>49996</th>\n",
              "      <td>bad plot, bad dialogue, bad acting, idiotic di...</td>\n",
              "      <td>negative</td>\n",
              "      <td>bad plot, bad dialogue, bad acting, idiotic di...</td>\n",
              "      <td>bad plot  bad dialogue  bad acting  idiotic di...</td>\n",
              "      <td>0.006484</td>\n",
              "      <td>negative</td>\n",
              "    </tr>\n",
              "    <tr>\n",
              "      <th>49997</th>\n",
              "      <td>i am a catholic taught in parochial elementary...</td>\n",
              "      <td>negative</td>\n",
              "      <td>catholic taught parochial elementary schools n...</td>\n",
              "      <td>catholic taught parochial elementary schools n...</td>\n",
              "      <td>0.435211</td>\n",
              "      <td>negative</td>\n",
              "    </tr>\n",
              "    <tr>\n",
              "      <th>49998</th>\n",
              "      <td>i'm going to have to disagree with the previou...</td>\n",
              "      <td>negative</td>\n",
              "      <td>going disagree previous comment side maltin on...</td>\n",
              "      <td>going disagree previous comment side maltin on...</td>\n",
              "      <td>0.840934</td>\n",
              "      <td>positive</td>\n",
              "    </tr>\n",
              "    <tr>\n",
              "      <th>49999</th>\n",
              "      <td>no one expects the star trek movies to be high...</td>\n",
              "      <td>negative</td>\n",
              "      <td>no one expects star trek movies high art, fans...</td>\n",
              "      <td>no one expects star trek movies high art  fans...</td>\n",
              "      <td>0.023882</td>\n",
              "      <td>negative</td>\n",
              "    </tr>\n",
              "  </tbody>\n",
              "</table>\n",
              "<p>50000 rows × 6 columns</p>\n",
              "</div>"
            ],
            "text/plain": [
              "                                                  review  ... predicted sentiment\n",
              "0      one of the other reviewers has mentioned that ...  ...            positive\n",
              "1      a wonderful little production. <br /><br />the...  ...            positive\n",
              "2      i thought this was a wonderful way to spend ti...  ...            positive\n",
              "3      basically there's a family where a little boy ...  ...            negative\n",
              "4      petter mattei's \"love in the time of money\" is...  ...            positive\n",
              "...                                                  ...  ...                 ...\n",
              "49995  i thought this movie did a down right good job...  ...            positive\n",
              "49996  bad plot, bad dialogue, bad acting, idiotic di...  ...            negative\n",
              "49997  i am a catholic taught in parochial elementary...  ...            negative\n",
              "49998  i'm going to have to disagree with the previou...  ...            positive\n",
              "49999  no one expects the star trek movies to be high...  ...            negative\n",
              "\n",
              "[50000 rows x 6 columns]"
            ]
          },
          "metadata": {
            "tags": []
          },
          "execution_count": 55
        }
      ]
    },
    {
      "cell_type": "code",
      "metadata": {
        "id": "IOmWhPa6jvUJ"
      },
      "source": [],
      "execution_count": null,
      "outputs": []
    }
  ]
}
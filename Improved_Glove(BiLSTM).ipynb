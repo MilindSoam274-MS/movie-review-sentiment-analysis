{
  "nbformat": 4,
  "nbformat_minor": 0,
  "metadata": {
    "colab": {
      "provenance": []
    },
    "kernelspec": {
      "name": "python3",
      "display_name": "Python 3"
    },
    "language_info": {
      "name": "python"
    },
    "accelerator": "GPU"
  },
  "cells": [
    {
      "cell_type": "code",
      "metadata": {
        "id": "o4SbHpIoml9f"
      },
      "source": [],
      "execution_count": null,
      "outputs": []
    },
    {
      "cell_type": "code",
      "metadata": {
        "id": "ILC8B88PGVpi"
      },
      "source": [
        "from keras.datasets import imdb\n",
        "import pandas as pd\n",
        "import numpy as np\n",
        "from keras.layers import LSTM, Activation, Dropout, Dense, Input, Conv1D, MaxPooling1D, GlobalMaxPooling1D\n",
        "from keras.layers.embeddings import Embedding\n",
        "from keras.models import Model\n",
        "import string\n",
        "import re\n",
        "from keras.preprocessing.text import Tokenizer\n",
        "from sklearn.preprocessing import LabelBinarizer\n",
        "from keras.preprocessing.sequence import pad_sequences\n",
        "import keras\n",
        "from sklearn.model_selection import train_test_split"
      ],
      "execution_count": null,
      "outputs": []
    },
    {
      "cell_type": "code",
      "metadata": {
        "id": "CnwhfL3NUaag"
      },
      "source": [
        "data = pd.read_csv('/content/drive/MyDrive/ISR Dataset/IMDB Dataset.csv')\n",
        "\n",
        "data['review'] = data['review'].str.lower()\n"
      ],
      "execution_count": null,
      "outputs": []
    },
    {
      "cell_type": "code",
      "metadata": {
        "id": "V0oF19XKyi8E"
      },
      "source": [
        "stopwords = [ \"a\", \"about\", \"above\", \"after\", \"again\", \"against\", \"all\", \"am\", \"an\", \"and\", \"any\", \"are\", \"as\", \"at\", \"be\", \"because\",\n",
        "             \"been\", \"before\", \"being\", \"below\", \"between\", \"both\", \"but\", \"by\", \"could\", \"did\", \"do\", \"does\", \"doing\", \"down\", \"during\",\n",
        "             \"each\", \"few\", \"for\", \"from\", \"further\", \"had\", \"has\", \"have\", \"having\", \"he\", \"he'd\", \"he'll\", \"he's\", \"her\", \"here\",\n",
        "             \"here's\", \"hers\", \"herself\", \"him\", \"himself\", \"his\", \"how\", \"how's\", \"i\", \"i'd\", \"i'll\", \"i'm\", \"i've\", \"if\", \"in\", \"into\",\n",
        "             \"is\", \"it\", \"it's\", \"its\", \"itself\", \"let's\", \"me\", \"more\", \"most\", \"my\", \"myself\", \"nor\", \"of\", \"on\", \"once\", \"only\", \"or\",\n",
        "             \"other\", \"ought\", \"our\", \"ours\", \"ourselves\", \"out\", \"over\", \"own\", \"same\", \"she\", \"she'd\", \"she'll\", \"she's\", \"should\",\n",
        "             \"so\", \"some\", \"such\", \"than\", \"that\", \"that's\", \"the\", \"their\", \"theirs\", \"them\", \"themselves\", \"then\", \"there\", \"there's\",\n",
        "             \"these\", \"they\", \"they'd\", \"they'll\", \"they're\", \"they've\", \"this\", \"those\", \"through\", \"to\", \"too\", \"under\", \"until\", \"up\",\n",
        "             \"very\", \"was\", \"we\", \"we'd\", \"we'll\", \"we're\", \"we've\", \"were\", \"what\", \"what's\", \"when\", \"when's\", \"where\", \"where's\",\n",
        "             \"which\", \"while\", \"who\", \"who's\", \"whom\", \"why\", \"why's\", \"with\", \"would\", \"you\", \"you'd\", \"you'll\", \"you're\", \"you've\",\n",
        "             \"your\", \"yours\", \"yourself\", \"yourselves\" ]"
      ],
      "execution_count": null,
      "outputs": []
    },
    {
      "cell_type": "code",
      "metadata": {
        "id": "O20xL-WtzODy"
      },
      "source": [
        "def remove_stopwords(data):\n",
        "  data['review without stopwords'] = data['review'].apply(lambda x : ' '.join([word for word in x.split() if word not in (stopwords)]))\n",
        "  return data\n",
        "\n",
        "def remove_tags(string):\n",
        "    result = re.sub('<.*?>','',string)\n",
        "    return result\n"
      ],
      "execution_count": null,
      "outputs": []
    },
    {
      "cell_type": "code",
      "metadata": {
        "id": "HehsxBu108xh"
      },
      "source": [
        "data_without_stopwords = remove_stopwords(data)\n",
        "data_without_stopwords['clean_review']= data_without_stopwords['review without stopwords'].apply(lambda cw : remove_tags(cw))\n",
        "data_without_stopwords['clean_review'] = data_without_stopwords['clean_review'].str.replace('[{}]'.format(string.punctuation), ' ')"
      ],
      "execution_count": null,
      "outputs": []
    },
    {
      "cell_type": "code",
      "metadata": {
        "id": "H4JDXL8A3CSO",
        "colab": {
          "base_uri": "https://localhost:8080/",
          "height": 203
        },
        "outputId": "45164ed6-d63c-4868-9d4a-fdabd41c4ce8"
      },
      "source": [
        "data_without_stopwords.head()"
      ],
      "execution_count": null,
      "outputs": [
        {
          "output_type": "execute_result",
          "data": {
            "text/html": [
              "<div>\n",
              "<style scoped>\n",
              "    .dataframe tbody tr th:only-of-type {\n",
              "        vertical-align: middle;\n",
              "    }\n",
              "\n",
              "    .dataframe tbody tr th {\n",
              "        vertical-align: top;\n",
              "    }\n",
              "\n",
              "    .dataframe thead th {\n",
              "        text-align: right;\n",
              "    }\n",
              "</style>\n",
              "<table border=\"1\" class=\"dataframe\">\n",
              "  <thead>\n",
              "    <tr style=\"text-align: right;\">\n",
              "      <th></th>\n",
              "      <th>review</th>\n",
              "      <th>sentiment</th>\n",
              "      <th>review without stopwords</th>\n",
              "      <th>clean_review</th>\n",
              "    </tr>\n",
              "  </thead>\n",
              "  <tbody>\n",
              "    <tr>\n",
              "      <th>0</th>\n",
              "      <td>one of the other reviewers has mentioned that ...</td>\n",
              "      <td>positive</td>\n",
              "      <td>one reviewers mentioned watching just 1 oz epi...</td>\n",
              "      <td>one reviewers mentioned watching just 1 oz epi...</td>\n",
              "    </tr>\n",
              "    <tr>\n",
              "      <th>1</th>\n",
              "      <td>a wonderful little production. &lt;br /&gt;&lt;br /&gt;the...</td>\n",
              "      <td>positive</td>\n",
              "      <td>wonderful little production. &lt;br /&gt;&lt;br /&gt;the f...</td>\n",
              "      <td>wonderful little production  the filming techn...</td>\n",
              "    </tr>\n",
              "    <tr>\n",
              "      <th>2</th>\n",
              "      <td>i thought this was a wonderful way to spend ti...</td>\n",
              "      <td>positive</td>\n",
              "      <td>thought wonderful way spend time hot summer we...</td>\n",
              "      <td>thought wonderful way spend time hot summer we...</td>\n",
              "    </tr>\n",
              "    <tr>\n",
              "      <th>3</th>\n",
              "      <td>basically there's a family where a little boy ...</td>\n",
              "      <td>negative</td>\n",
              "      <td>basically family little boy (jake) thinks zomb...</td>\n",
              "      <td>basically family little boy  jake  thinks zomb...</td>\n",
              "    </tr>\n",
              "    <tr>\n",
              "      <th>4</th>\n",
              "      <td>petter mattei's \"love in the time of money\" is...</td>\n",
              "      <td>positive</td>\n",
              "      <td>petter mattei's \"love time money\" visually stu...</td>\n",
              "      <td>petter mattei s  love time money  visually stu...</td>\n",
              "    </tr>\n",
              "  </tbody>\n",
              "</table>\n",
              "</div>"
            ],
            "text/plain": [
              "                                              review  ...                                       clean_review\n",
              "0  one of the other reviewers has mentioned that ...  ...  one reviewers mentioned watching just 1 oz epi...\n",
              "1  a wonderful little production. <br /><br />the...  ...  wonderful little production  the filming techn...\n",
              "2  i thought this was a wonderful way to spend ti...  ...  thought wonderful way spend time hot summer we...\n",
              "3  basically there's a family where a little boy ...  ...  basically family little boy  jake  thinks zomb...\n",
              "4  petter mattei's \"love in the time of money\" is...  ...  petter mattei s  love time money  visually stu...\n",
              "\n",
              "[5 rows x 4 columns]"
            ]
          },
          "metadata": {
            "tags": []
          },
          "execution_count": 6
        }
      ]
    },
    {
      "cell_type": "code",
      "metadata": {
        "id": "VZFHtdni5mZE",
        "colab": {
          "base_uri": "https://localhost:8080/"
        },
        "outputId": "5acc0690-5f46-4834-e2d1-345b9f18291b"
      },
      "source": [
        "\n",
        "reviews = data_without_stopwords['clean_review']\n",
        "reviews"
      ],
      "execution_count": null,
      "outputs": [
        {
          "output_type": "execute_result",
          "data": {
            "text/plain": [
              "0        one reviewers mentioned watching just 1 oz epi...\n",
              "1        wonderful little production  the filming techn...\n",
              "2        thought wonderful way spend time hot summer we...\n",
              "3        basically family little boy  jake  thinks zomb...\n",
              "4        petter mattei s  love time money  visually stu...\n",
              "                               ...                        \n",
              "49995    thought movie right good job  wasn t creative ...\n",
              "49996    bad plot  bad dialogue  bad acting  idiotic di...\n",
              "49997    catholic taught parochial elementary schools n...\n",
              "49998    going disagree previous comment side maltin on...\n",
              "49999    no one expects star trek movies high art  fans...\n",
              "Name: clean_review, Length: 50000, dtype: object"
            ]
          },
          "metadata": {
            "tags": []
          },
          "execution_count": 7
        }
      ]
    },
    {
      "cell_type": "code",
      "metadata": {
        "id": "fSMjGYrUU1jX"
      },
      "source": [
        "reviews_list = []\n",
        "for i in range(len(reviews)):\n",
        "  reviews_list.append(reviews[i])\n",
        "\n"
      ],
      "execution_count": null,
      "outputs": []
    },
    {
      "cell_type": "code",
      "metadata": {
        "id": "urgoMx7UaeJz"
      },
      "source": [
        "sentiment = data_without_stopwords['sentiment']"
      ],
      "execution_count": null,
      "outputs": []
    },
    {
      "cell_type": "code",
      "metadata": {
        "id": "tjY5K71YWVe4"
      },
      "source": [
        "y = np.array(list(map(lambda x: 1 if x==\"positive\" else 0, sentiment)))"
      ],
      "execution_count": null,
      "outputs": []
    },
    {
      "cell_type": "code",
      "metadata": {
        "id": "cqdMpZR0Wpg8",
        "colab": {
          "base_uri": "https://localhost:8080/"
        },
        "outputId": "597850de-0307-4bf5-d79f-803e6e6efde6"
      },
      "source": [
        "y"
      ],
      "execution_count": null,
      "outputs": [
        {
          "output_type": "execute_result",
          "data": {
            "text/plain": [
              "array([1, 1, 1, ..., 0, 0, 0])"
            ]
          },
          "metadata": {
            "tags": []
          },
          "execution_count": 11
        }
      ]
    },
    {
      "cell_type": "code",
      "metadata": {
        "id": "fqkDtVPMYeeT"
      },
      "source": [
        "X_train, X_test,Y_train, Y_test = train_test_split(reviews_list, y, test_size=0.2, random_state = 45)"
      ],
      "execution_count": null,
      "outputs": []
    },
    {
      "cell_type": "code",
      "metadata": {
        "id": "8446f0TtQl-3",
        "colab": {
          "base_uri": "https://localhost:8080/"
        },
        "outputId": "90a642bd-0e77-4c58-e809-d9994880f126"
      },
      "source": [
        "len(Y_train)"
      ],
      "execution_count": null,
      "outputs": [
        {
          "output_type": "execute_result",
          "data": {
            "text/plain": [
              "40000"
            ]
          },
          "metadata": {
            "tags": []
          },
          "execution_count": 13
        }
      ]
    },
    {
      "cell_type": "code",
      "metadata": {
        "id": "ujoI8P64P12P"
      },
      "source": [
        "tokenizer = Tokenizer(num_words=5000)\n",
        "tokenizer.fit_on_texts(X_train)"
      ],
      "execution_count": null,
      "outputs": []
    },
    {
      "cell_type": "code",
      "metadata": {
        "id": "0rZPh61RP5gH"
      },
      "source": [
        "words_to_index = tokenizer.word_index"
      ],
      "execution_count": null,
      "outputs": []
    },
    {
      "cell_type": "code",
      "metadata": {
        "id": "nj1lFsRPP7G7",
        "colab": {
          "base_uri": "https://localhost:8080/"
        },
        "outputId": "513bf86d-4d3b-433b-daa4-977c4ad94067"
      },
      "source": [
        "len(words_to_index)"
      ],
      "execution_count": null,
      "outputs": [
        {
          "output_type": "execute_result",
          "data": {
            "text/plain": [
              "95419"
            ]
          },
          "metadata": {
            "tags": []
          },
          "execution_count": 16
        }
      ]
    },
    {
      "cell_type": "code",
      "metadata": {
        "id": "4cfT3r4nc5GE"
      },
      "source": [
        "def read_glove_vector(glove_vec):\n",
        "  with open(glove_vec, 'r', encoding='UTF-8') as f:\n",
        "    words = set()\n",
        "    word_to_vec_map = {}\n",
        "    for line in f:\n",
        "      w_line = line.split()\n",
        "      curr_word = w_line[0]\n",
        "      word_to_vec_map[curr_word] = np.array(w_line[1:], dtype=np.float64)\n",
        "\n",
        "\n",
        "\n",
        "  return word_to_vec_map\n",
        ""
      ],
      "execution_count": null,
      "outputs": []
    },
    {
      "cell_type": "code",
      "metadata": {
        "id": "S4QJe7iZeDC1"
      },
      "source": [
        "word_to_vec_map = read_glove_vector('/content/drive/MyDrive/ISR Dataset/glove.6B.50d.txt')"
      ],
      "execution_count": null,
      "outputs": []
    },
    {
      "cell_type": "code",
      "metadata": {
        "id": "_VF9U14qjjXw"
      },
      "source": [
        "maxLen = 150\n"
      ],
      "execution_count": null,
      "outputs": []
    },
    {
      "cell_type": "code",
      "metadata": {
        "id": "Am3MZl2fobDn"
      },
      "source": [
        "\n",
        "vocab_len = len(words_to_index)\n",
        "embed_vector_len = word_to_vec_map['moon'].shape[0]\n",
        "\n",
        "emb_matrix = np.zeros((vocab_len, embed_vector_len))\n",
        "\n",
        "for word, index in words_to_index.items():\n",
        "  embedding_vector = word_to_vec_map.get(word)\n",
        "  if embedding_vector is not None:\n",
        "    emb_matrix[index, :] = embedding_vector\n",
        "\n",
        "embedding_layer = Embedding(input_dim=vocab_len, output_dim=embed_vector_len, input_length=maxLen, weights = [emb_matrix], trainable=False)\n",
        "\n",
        "\n",
        "\n",
        "\n"
      ],
      "execution_count": null,
      "outputs": []
    },
    {
      "cell_type": "code",
      "metadata": {
        "id": "NGIYldXUnAGi"
      },
      "source": [],
      "execution_count": null,
      "outputs": []
    },
    {
      "cell_type": "code",
      "metadata": {
        "id": "PJIm5-AHDhLP"
      },
      "source": [
        "from keras.layers import Bidirectional"
      ],
      "execution_count": null,
      "outputs": []
    },
    {
      "cell_type": "code",
      "metadata": {
        "id": "V94V9w4PDf6B"
      },
      "source": [
        "#model=imdb_rating(input_shape)\n",
        "def imdb_rating(input_shape):\n",
        "\n",
        "  X_indices = Input(input_shape)\n",
        "\n",
        "  embeddings = embedding_layer(X_indices)\n",
        "\n",
        "  X =Bidirectional(LSTM(128, return_sequences=True))(embeddings)\n",
        "\n",
        "  X = Dropout(0.3)(X)\n",
        "\n",
        "  X = Bidirectional(LSTM(128))(X)\n",
        "\n",
        "  X = Dropout(0.3)(X)\n",
        "\n",
        "  #X = LSTM(128)(X)\n",
        "  #X = Dense(64)\n",
        "  #X = Dropout(0.3)\n",
        "\n",
        "  X = Dense(1, activation='sigmoid')(X)\n",
        "\n",
        "  model = Model(inputs=X_indices, outputs=X)\n",
        "\n",
        "  return model"
      ],
      "execution_count": null,
      "outputs": []
    },
    {
      "cell_type": "code",
      "metadata": {
        "colab": {
          "base_uri": "https://localhost:8080/"
        },
        "id": "PeB6unmRpa2a",
        "outputId": "dc01afd7-4b19-4510-876b-6e1b370786c4"
      },
      "source": [
        "model = imdb_rating((maxLen,))\n",
        "model.summary()"
      ],
      "execution_count": null,
      "outputs": [
        {
          "output_type": "stream",
          "text": [
            "Model: \"model\"\n",
            "_________________________________________________________________\n",
            "Layer (type)                 Output Shape              Param #   \n",
            "=================================================================\n",
            "input_1 (InputLayer)         [(None, 150)]             0         \n",
            "_________________________________________________________________\n",
            "embedding (Embedding)        (None, 150, 50)           4770950   \n",
            "_________________________________________________________________\n",
            "bidirectional (Bidirectional (None, 150, 256)          183296    \n",
            "_________________________________________________________________\n",
            "dropout (Dropout)            (None, 150, 256)          0         \n",
            "_________________________________________________________________\n",
            "bidirectional_1 (Bidirection (None, 256)               394240    \n",
            "_________________________________________________________________\n",
            "dropout_1 (Dropout)          (None, 256)               0         \n",
            "_________________________________________________________________\n",
            "dense (Dense)                (None, 1)                 257       \n",
            "=================================================================\n",
            "Total params: 5,348,743\n",
            "Trainable params: 577,793\n",
            "Non-trainable params: 4,770,950\n",
            "_________________________________________________________________\n"
          ],
          "name": "stdout"
        }
      ]
    },
    {
      "cell_type": "code",
      "metadata": {
        "id": "56-WjIN-24l8"
      },
      "source": [
        "X_train_indices = tokenizer.texts_to_sequences(X_train)\n",
        "\n",
        "X_train_indices = pad_sequences(X_train_indices, maxlen=maxLen, padding='post')"
      ],
      "execution_count": null,
      "outputs": []
    },
    {
      "cell_type": "code",
      "metadata": {
        "colab": {
          "base_uri": "https://localhost:8080/"
        },
        "id": "HZKW0U3l282z",
        "outputId": "4b743587-9f38-4275-f0ff-b318e5295f18"
      },
      "source": [
        "adam = keras.optimizers.Adam(learning_rate = 0.001)\n",
        "model.compile(optimizer=adam, loss='binary_crossentropy', metrics=['accuracy'])\n",
        "\n",
        "model.fit(X_train_indices, Y_train,validation_split=0.2, batch_size=128, epochs=15)"
      ],
      "execution_count": null,
      "outputs": [
        {
          "output_type": "stream",
          "text": [
            "Epoch 1/15\n",
            "250/250 [==============================] - 41s 63ms/step - loss: 0.5973 - accuracy: 0.6680 - val_loss: 0.5247 - val_accuracy: 0.7369\n",
            "Epoch 2/15\n",
            "250/250 [==============================] - 14s 57ms/step - loss: 0.5136 - accuracy: 0.7467 - val_loss: 0.4401 - val_accuracy: 0.8023\n",
            "Epoch 3/15\n",
            "250/250 [==============================] - 14s 58ms/step - loss: 0.4217 - accuracy: 0.8107 - val_loss: 0.3872 - val_accuracy: 0.8269\n",
            "Epoch 4/15\n",
            "250/250 [==============================] - 15s 59ms/step - loss: 0.3744 - accuracy: 0.8374 - val_loss: 0.3742 - val_accuracy: 0.8359\n",
            "Epoch 5/15\n",
            "250/250 [==============================] - 15s 59ms/step - loss: 0.3645 - accuracy: 0.8396 - val_loss: 0.3755 - val_accuracy: 0.8356\n",
            "Epoch 6/15\n",
            "250/250 [==============================] - 15s 59ms/step - loss: 0.3417 - accuracy: 0.8497 - val_loss: 0.3865 - val_accuracy: 0.8250\n",
            "Epoch 7/15\n",
            "250/250 [==============================] - 15s 59ms/step - loss: 0.3403 - accuracy: 0.8509 - val_loss: 0.3469 - val_accuracy: 0.8484\n",
            "Epoch 8/15\n",
            "250/250 [==============================] - 15s 58ms/step - loss: 0.3158 - accuracy: 0.8655 - val_loss: 0.3424 - val_accuracy: 0.8530\n",
            "Epoch 9/15\n",
            "250/250 [==============================] - 15s 58ms/step - loss: 0.3036 - accuracy: 0.8710 - val_loss: 0.3399 - val_accuracy: 0.8555\n",
            "Epoch 10/15\n",
            "250/250 [==============================] - 15s 58ms/step - loss: 0.2969 - accuracy: 0.8736 - val_loss: 0.3340 - val_accuracy: 0.8610\n",
            "Epoch 11/15\n",
            "250/250 [==============================] - 15s 59ms/step - loss: 0.2605 - accuracy: 0.8893 - val_loss: 0.3288 - val_accuracy: 0.8614\n",
            "Epoch 12/15\n",
            "250/250 [==============================] - 15s 59ms/step - loss: 0.2521 - accuracy: 0.8953 - val_loss: 0.3227 - val_accuracy: 0.8637\n",
            "Epoch 13/15\n",
            "250/250 [==============================] - 15s 59ms/step - loss: 0.2442 - accuracy: 0.8993 - val_loss: 0.3401 - val_accuracy: 0.8594\n",
            "Epoch 14/15\n",
            "250/250 [==============================] - 15s 59ms/step - loss: 0.2191 - accuracy: 0.9101 - val_loss: 0.3480 - val_accuracy: 0.8627\n",
            "Epoch 15/15\n",
            "250/250 [==============================] - 15s 59ms/step - loss: 0.2089 - accuracy: 0.9152 - val_loss: 0.3437 - val_accuracy: 0.8564\n"
          ],
          "name": "stdout"
        },
        {
          "output_type": "execute_result",
          "data": {
            "text/plain": [
              "<keras.callbacks.History at 0x7f50cc1142d0>"
            ]
          },
          "metadata": {
            "tags": []
          },
          "execution_count": 25
        }
      ]
    },
    {
      "cell_type": "code",
      "metadata": {
        "id": "cv5avUm3oVDb"
      },
      "source": [
        "import matplotlib.pyplot as plt\n"
      ],
      "execution_count": null,
      "outputs": []
    },
    {
      "cell_type": "code",
      "metadata": {
        "id": "p62NgJlqw9cA"
      },
      "source": [],
      "execution_count": null,
      "outputs": []
    },
    {
      "cell_type": "code",
      "metadata": {
        "id": "kI9iQ9lzN6eE"
      },
      "source": [
        "model.save_weights('/content/drive/MyDrive/ISR Dataset/imdb_weights_Glove_Improved_Bilstm.hdf5')"
      ],
      "execution_count": null,
      "outputs": []
    },
    {
      "cell_type": "code",
      "metadata": {
        "id": "Vv11fGSaxN7v"
      },
      "source": [
        "model_eval= imdb_rating((maxLen,))\n",
        "#model_eval.load_weights('/content/drive/MyDrive/ISR Dataset/imdb_weights_Glove_Improved_Bilstm.hdf5')"
      ],
      "execution_count": null,
      "outputs": []
    },
    {
      "cell_type": "code",
      "metadata": {
        "id": "6EPBK0Gb6I8x"
      },
      "source": [
        "adam = keras.optimizers.Adam(learning_rate = 0.001)\n",
        "model_eval.compile(optimizer=adam, loss='binary_crossentropy', metrics=['accuracy'])"
      ],
      "execution_count": null,
      "outputs": []
    },
    {
      "cell_type": "code",
      "metadata": {
        "colab": {
          "base_uri": "https://localhost:8080/"
        },
        "id": "RZYmrkg56bbN",
        "outputId": "b716e07c-973f-44d1-e660-9182ebc6b0d7"
      },
      "source": [
        "history=model_eval.fit(X_train_indices, Y_train,validation_split=0.2, batch_size=128, epochs=15)"
      ],
      "execution_count": null,
      "outputs": [
        {
          "output_type": "stream",
          "text": [
            "Epoch 1/15\n",
            "250/250 [==============================] - 21s 64ms/step - loss: 0.6036 - accuracy: 0.6672 - val_loss: 0.5002 - val_accuracy: 0.7676\n",
            "Epoch 2/15\n",
            "250/250 [==============================] - 15s 60ms/step - loss: 0.4795 - accuracy: 0.7764 - val_loss: 0.4435 - val_accuracy: 0.8002\n",
            "Epoch 3/15\n",
            "250/250 [==============================] - 15s 60ms/step - loss: 0.4123 - accuracy: 0.8182 - val_loss: 0.3928 - val_accuracy: 0.8300\n",
            "Epoch 4/15\n",
            "250/250 [==============================] - 15s 59ms/step - loss: 0.3796 - accuracy: 0.8355 - val_loss: 0.3726 - val_accuracy: 0.8396\n",
            "Epoch 5/15\n",
            "250/250 [==============================] - 15s 59ms/step - loss: 0.3503 - accuracy: 0.8510 - val_loss: 0.3542 - val_accuracy: 0.8447\n",
            "Epoch 6/15\n",
            "250/250 [==============================] - 15s 58ms/step - loss: 0.3280 - accuracy: 0.8604 - val_loss: 0.3648 - val_accuracy: 0.8510\n",
            "Epoch 7/15\n",
            "250/250 [==============================] - 15s 59ms/step - loss: 0.3200 - accuracy: 0.8647 - val_loss: 0.3489 - val_accuracy: 0.8537\n",
            "Epoch 8/15\n",
            "250/250 [==============================] - 15s 59ms/step - loss: 0.2977 - accuracy: 0.8736 - val_loss: 0.3377 - val_accuracy: 0.8544\n",
            "Epoch 9/15\n",
            "250/250 [==============================] - 15s 59ms/step - loss: 0.2872 - accuracy: 0.8807 - val_loss: 0.3398 - val_accuracy: 0.8620\n",
            "Epoch 10/15\n",
            "250/250 [==============================] - 15s 58ms/step - loss: 0.2749 - accuracy: 0.8868 - val_loss: 0.3387 - val_accuracy: 0.8637\n",
            "Epoch 11/15\n",
            "250/250 [==============================] - 15s 58ms/step - loss: 0.2449 - accuracy: 0.8999 - val_loss: 0.3292 - val_accuracy: 0.8636\n",
            "Epoch 12/15\n",
            "250/250 [==============================] - 15s 59ms/step - loss: 0.2260 - accuracy: 0.9065 - val_loss: 0.3584 - val_accuracy: 0.8490\n",
            "Epoch 13/15\n",
            "250/250 [==============================] - 15s 58ms/step - loss: 0.2227 - accuracy: 0.9093 - val_loss: 0.3522 - val_accuracy: 0.8633\n",
            "Epoch 14/15\n",
            "250/250 [==============================] - 15s 59ms/step - loss: 0.1998 - accuracy: 0.9217 - val_loss: 0.3824 - val_accuracy: 0.8593\n",
            "Epoch 15/15\n",
            "250/250 [==============================] - 15s 58ms/step - loss: 0.1765 - accuracy: 0.9306 - val_loss: 0.4017 - val_accuracy: 0.8475\n"
          ],
          "name": "stdout"
        }
      ]
    },
    {
      "cell_type": "code",
      "metadata": {
        "colab": {
          "base_uri": "https://localhost:8080/",
          "height": 406
        },
        "id": "fJcNhA2jL82W",
        "outputId": "608c800e-9415-4903-ba49-c034b54aeb7e"
      },
      "source": [
        "fig, (axis1, axis2) = plt.subplots(nrows=1, ncols=2, figsize=(16,6))\n",
        "\n",
        "# summarize history for accuracy\n",
        "axis1.plot(history.history['accuracy'] , label='Train', linewidth=3)\n",
        "axis1.plot(history.history['val_accuracy'], label='Validation', linewidth=3)\n",
        "axis1.set_title('Model accuracy', fontsize=16)\n",
        "axis1.set_ylabel('accuracy')\n",
        "axis1.set_xlabel('epoch')\n",
        "axis1.legend(loc='upper left')\n",
        "\n",
        "# summarize history for loss\n",
        "axis2.plot(history.history['loss'], label='Train', linewidth=3)\n",
        "axis2.plot(history.history['val_loss'], label='Validation', linewidth=3)\n",
        "axis2.set_title('Model loss', fontsize=16)\n",
        "axis2.set_ylabel('loss')\n",
        "axis2.set_xlabel('epoch')\n",
        "axis2.legend(loc='upper right')\n",
        "plt.show()"
      ],
      "execution_count": null,
      "outputs": [
        {
          "output_type": "display_data",
          "data": {
            "image/png": "[encoded data removed]",
            "text/plain": [
              "<Figure size 1152x432 with 2 Axes>"
            ]
          },
          "metadata": {
            "tags": [],
            "needs_background": "light"
          }
        }
      ]
    },
    {
      "cell_type": "code",
      "metadata": {
        "id": "wVRVLH-_pJyC"
      },
      "source": [],
      "execution_count": null,
      "outputs": []
    },
    {
      "cell_type": "code",
      "metadata": {
        "id": "oVY1gYalXkO7"
      },
      "source": [
        "X_test_indices = tokenizer.texts_to_sequences(X_test)\n",
        "\n",
        "X_test_indices = pad_sequences(X_test_indices, maxlen=maxLen, padding='post')"
      ],
      "execution_count": null,
      "outputs": []
    },
    {
      "cell_type": "code",
      "metadata": {
        "colab": {
          "base_uri": "https://localhost:8080/"
        },
        "id": "m5ZqEg_tVbXW",
        "outputId": "8cc9435c-022b-46aa-db9d-c0f8e4e242c8"
      },
      "source": [
        "model.evaluate(X_test_indices,Y_test)"
      ],
      "execution_count": null,
      "outputs": [
        {
          "output_type": "stream",
          "text": [
            "313/313 [==============================] - 5s 15ms/step - loss: 0.3397 - accuracy: 0.8573\n"
          ],
          "name": "stdout"
        },
        {
          "output_type": "execute_result",
          "data": {
            "text/plain": [
              "[0.3397085964679718, 0.8572999835014343]"
            ]
          },
          "metadata": {
            "tags": []
          },
          "execution_count": 35
        }
      ]
    }
  ]
}
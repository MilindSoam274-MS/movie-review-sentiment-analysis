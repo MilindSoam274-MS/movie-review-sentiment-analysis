{
  "nbformat": 4,
  "nbformat_minor": 0,
  "metadata": {
    "colab": {
      "provenance": []
    },
    "kernelspec": {
      "name": "python3",
      "display_name": "Python 3"
    },
    "language_info": {
      "name": "python"
    },
    "accelerator": "GPU"
  },
  "cells": [
    {
      "cell_type": "code",
      "metadata": {
        "id": "8OWY-u_jkoIm"
      },
      "source": [],
      "execution_count": null,
      "outputs": []
    },
    {
      "cell_type": "code",
      "metadata": {
        "id": "ILC8B88PGVpi"
      },
      "source": [
        "from keras.datasets import imdb\n",
        "import pandas as pd\n",
        "import numpy as np\n",
        "from keras.layers import LSTM, Activation, Dropout, Dense, Input, Conv1D, MaxPooling1D, GlobalMaxPooling1D\n",
        "from keras.layers.embeddings import Embedding\n",
        "from keras.models import Model\n",
        "import string\n",
        "import re\n",
        "from keras.preprocessing.text import Tokenizer\n",
        "from sklearn.preprocessing import LabelBinarizer\n",
        "from keras.preprocessing.sequence import pad_sequences\n",
        "import keras\n",
        "from sklearn.model_selection import train_test_split"
      ],
      "execution_count": null,
      "outputs": []
    },
    {
      "cell_type": "code",
      "metadata": {
        "id": "CnwhfL3NUaag"
      },
      "source": [
        "data = pd.read_csv('/content/drive/MyDrive/ISR Dataset/IMDB Dataset.csv')\n",
        "\n",
        "data['review'] = data['review'].str.lower()\n"
      ],
      "execution_count": null,
      "outputs": []
    },
    {
      "cell_type": "code",
      "metadata": {
        "id": "V0oF19XKyi8E"
      },
      "source": [
        "stopwords = [ \"a\", \"about\", \"above\", \"after\", \"again\", \"against\", \"all\", \"am\", \"an\", \"and\", \"any\", \"are\", \"as\", \"at\", \"be\", \"because\",\n",
        "             \"been\", \"before\", \"being\", \"below\", \"between\", \"both\", \"but\", \"by\", \"could\", \"did\", \"do\", \"does\", \"doing\", \"down\", \"during\",\n",
        "             \"each\", \"few\", \"for\", \"from\", \"further\", \"had\", \"has\", \"have\", \"having\", \"he\", \"he'd\", \"he'll\", \"he's\", \"her\", \"here\",\n",
        "             \"here's\", \"hers\", \"herself\", \"him\", \"himself\", \"his\", \"how\", \"how's\", \"i\", \"i'd\", \"i'll\", \"i'm\", \"i've\", \"if\", \"in\", \"into\",\n",
        "             \"is\", \"it\", \"it's\", \"its\", \"itself\", \"let's\", \"me\", \"more\", \"most\", \"my\", \"myself\", \"nor\", \"of\", \"on\", \"once\", \"only\", \"or\",\n",
        "             \"other\", \"ought\", \"our\", \"ours\", \"ourselves\", \"out\", \"over\", \"own\", \"same\", \"she\", \"she'd\", \"she'll\", \"she's\", \"should\",\n",
        "             \"so\", \"some\", \"such\", \"than\", \"that\", \"that's\", \"the\", \"their\", \"theirs\", \"them\", \"themselves\", \"then\", \"there\", \"there's\",\n",
        "             \"these\", \"they\", \"they'd\", \"they'll\", \"they're\", \"they've\", \"this\", \"those\", \"through\", \"to\", \"too\", \"under\", \"until\", \"up\",\n",
        "             \"very\", \"was\", \"we\", \"we'd\", \"we'll\", \"we're\", \"we've\", \"were\", \"what\", \"what's\", \"when\", \"when's\", \"where\", \"where's\",\n",
        "             \"which\", \"while\", \"who\", \"who's\", \"whom\", \"why\", \"why's\", \"with\", \"would\", \"you\", \"you'd\", \"you'll\", \"you're\", \"you've\",\n",
        "             \"your\", \"yours\", \"yourself\", \"yourselves\" ]"
      ],
      "execution_count": null,
      "outputs": []
    },
    {
      "cell_type": "code",
      "metadata": {
        "id": "O20xL-WtzODy"
      },
      "source": [
        "def remove_stopwords(data):\n",
        "  data['review without stopwords'] = data['review'].apply(lambda x : ' '.join([word for word in x.split() if word not in (stopwords)]))\n",
        "  return data\n",
        "\n",
        "def remove_tags(string):\n",
        "    result = re.sub('<.*?>','',string)\n",
        "    return result\n"
      ],
      "execution_count": null,
      "outputs": []
    },
    {
      "cell_type": "code",
      "metadata": {
        "id": "HehsxBu108xh"
      },
      "source": [
        "data_without_stopwords = remove_stopwords(data)\n",
        "data_without_stopwords['clean_review']= data_without_stopwords['review without stopwords'].apply(lambda cw : remove_tags(cw))\n",
        "data_without_stopwords['clean_review'] = data_without_stopwords['clean_review'].str.replace('[{}]'.format(string.punctuation), ' ')"
      ],
      "execution_count": null,
      "outputs": []
    },
    {
      "cell_type": "code",
      "metadata": {
        "id": "H4JDXL8A3CSO",
        "colab": {
          "base_uri": "https://localhost:8080/",
          "height": 203
        },
        "outputId": "a2563947-e54e-4f67-c9c8-3de7af88199a"
      },
      "source": [
        "data_without_stopwords.head()"
      ],
      "execution_count": null,
      "outputs": [
        {
          "output_type": "execute_result",
          "data": {
            "text/html": [
              "<div>\n",
              "<style scoped>\n",
              "    .dataframe tbody tr th:only-of-type {\n",
              "        vertical-align: middle;\n",
              "    }\n",
              "\n",
              "    .dataframe tbody tr th {\n",
              "        vertical-align: top;\n",
              "    }\n",
              "\n",
              "    .dataframe thead th {\n",
              "        text-align: right;\n",
              "    }\n",
              "</style>\n",
              "<table border=\"1\" class=\"dataframe\">\n",
              "  <thead>\n",
              "    <tr style=\"text-align: right;\">\n",
              "      <th></th>\n",
              "      <th>review</th>\n",
              "      <th>sentiment</th>\n",
              "      <th>review without stopwords</th>\n",
              "      <th>clean_review</th>\n",
              "    </tr>\n",
              "  </thead>\n",
              "  <tbody>\n",
              "    <tr>\n",
              "      <th>0</th>\n",
              "      <td>one of the other reviewers has mentioned that ...</td>\n",
              "      <td>positive</td>\n",
              "      <td>one reviewers mentioned watching just 1 oz epi...</td>\n",
              "      <td>one reviewers mentioned watching just 1 oz epi...</td>\n",
              "    </tr>\n",
              "    <tr>\n",
              "      <th>1</th>\n",
              "      <td>a wonderful little production. &lt;br /&gt;&lt;br /&gt;the...</td>\n",
              "      <td>positive</td>\n",
              "      <td>wonderful little production. &lt;br /&gt;&lt;br /&gt;the f...</td>\n",
              "      <td>wonderful little production  the filming techn...</td>\n",
              "    </tr>\n",
              "    <tr>\n",
              "      <th>2</th>\n",
              "      <td>i thought this was a wonderful way to spend ti...</td>\n",
              "      <td>positive</td>\n",
              "      <td>thought wonderful way spend time hot summer we...</td>\n",
              "      <td>thought wonderful way spend time hot summer we...</td>\n",
              "    </tr>\n",
              "    <tr>\n",
              "      <th>3</th>\n",
              "      <td>basically there's a family where a little boy ...</td>\n",
              "      <td>negative</td>\n",
              "      <td>basically family little boy (jake) thinks zomb...</td>\n",
              "      <td>basically family little boy  jake  thinks zomb...</td>\n",
              "    </tr>\n",
              "    <tr>\n",
              "      <th>4</th>\n",
              "      <td>petter mattei's \"love in the time of money\" is...</td>\n",
              "      <td>positive</td>\n",
              "      <td>petter mattei's \"love time money\" visually stu...</td>\n",
              "      <td>petter mattei s  love time money  visually stu...</td>\n",
              "    </tr>\n",
              "  </tbody>\n",
              "</table>\n",
              "</div>"
            ],
            "text/plain": [
              "                                              review  ...                                       clean_review\n",
              "0  one of the other reviewers has mentioned that ...  ...  one reviewers mentioned watching just 1 oz epi...\n",
              "1  a wonderful little production. <br /><br />the...  ...  wonderful little production  the filming techn...\n",
              "2  i thought this was a wonderful way to spend ti...  ...  thought wonderful way spend time hot summer we...\n",
              "3  basically there's a family where a little boy ...  ...  basically family little boy  jake  thinks zomb...\n",
              "4  petter mattei's \"love in the time of money\" is...  ...  petter mattei s  love time money  visually stu...\n",
              "\n",
              "[5 rows x 4 columns]"
            ]
          },
          "metadata": {
            "tags": []
          },
          "execution_count": 6
        }
      ]
    },
    {
      "cell_type": "code",
      "metadata": {
        "id": "VZFHtdni5mZE",
        "colab": {
          "base_uri": "https://localhost:8080/"
        },
        "outputId": "d41b105c-5be3-4b15-b951-b1bb44560a05"
      },
      "source": [
        "\n",
        "reviews = data_without_stopwords['clean_review']\n",
        "reviews"
      ],
      "execution_count": null,
      "outputs": [
        {
          "output_type": "execute_result",
          "data": {
            "text/plain": [
              "0        one reviewers mentioned watching just 1 oz epi...\n",
              "1        wonderful little production  the filming techn...\n",
              "2        thought wonderful way spend time hot summer we...\n",
              "3        basically family little boy  jake  thinks zomb...\n",
              "4        petter mattei s  love time money  visually stu...\n",
              "                               ...                        \n",
              "49995    thought movie right good job  wasn t creative ...\n",
              "49996    bad plot  bad dialogue  bad acting  idiotic di...\n",
              "49997    catholic taught parochial elementary schools n...\n",
              "49998    going disagree previous comment side maltin on...\n",
              "49999    no one expects star trek movies high art  fans...\n",
              "Name: clean_review, Length: 50000, dtype: object"
            ]
          },
          "metadata": {
            "tags": []
          },
          "execution_count": 7
        }
      ]
    },
    {
      "cell_type": "code",
      "metadata": {
        "id": "fSMjGYrUU1jX"
      },
      "source": [
        "reviews_list = []\n",
        "for i in range(len(reviews)):\n",
        "  reviews_list.append(reviews[i])\n",
        "\n"
      ],
      "execution_count": null,
      "outputs": []
    },
    {
      "cell_type": "code",
      "metadata": {
        "id": "urgoMx7UaeJz"
      },
      "source": [
        "sentiment = data_without_stopwords['sentiment']"
      ],
      "execution_count": null,
      "outputs": []
    },
    {
      "cell_type": "code",
      "metadata": {
        "id": "tjY5K71YWVe4"
      },
      "source": [
        "y = np.array(list(map(lambda x: 1 if x==\"positive\" else 0, sentiment)))"
      ],
      "execution_count": null,
      "outputs": []
    },
    {
      "cell_type": "code",
      "metadata": {
        "id": "cqdMpZR0Wpg8",
        "colab": {
          "base_uri": "https://localhost:8080/"
        },
        "outputId": "5b2f6025-b8c8-4eab-f097-19290d678e53"
      },
      "source": [
        "y"
      ],
      "execution_count": null,
      "outputs": [
        {
          "output_type": "execute_result",
          "data": {
            "text/plain": [
              "array([1, 1, 1, ..., 0, 0, 0])"
            ]
          },
          "metadata": {
            "tags": []
          },
          "execution_count": 11
        }
      ]
    },
    {
      "cell_type": "code",
      "metadata": {
        "id": "fqkDtVPMYeeT"
      },
      "source": [
        "X_train, X_test,Y_train, Y_test = train_test_split(reviews_list, y, test_size=0.2, random_state = 45)"
      ],
      "execution_count": null,
      "outputs": []
    },
    {
      "cell_type": "code",
      "metadata": {
        "id": "8446f0TtQl-3",
        "colab": {
          "base_uri": "https://localhost:8080/"
        },
        "outputId": "52763a08-96c4-4fcf-e60f-a4b811d5a621"
      },
      "source": [
        "len(Y_train)"
      ],
      "execution_count": null,
      "outputs": [
        {
          "output_type": "execute_result",
          "data": {
            "text/plain": [
              "40000"
            ]
          },
          "metadata": {
            "tags": []
          },
          "execution_count": 13
        }
      ]
    },
    {
      "cell_type": "code",
      "metadata": {
        "id": "ujoI8P64P12P"
      },
      "source": [
        "tokenizer = Tokenizer(num_words=5000)\n",
        "tokenizer.fit_on_texts(X_train)"
      ],
      "execution_count": null,
      "outputs": []
    },
    {
      "cell_type": "code",
      "metadata": {
        "id": "0rZPh61RP5gH"
      },
      "source": [
        "words_to_index = tokenizer.word_index"
      ],
      "execution_count": null,
      "outputs": []
    },
    {
      "cell_type": "code",
      "metadata": {
        "id": "nj1lFsRPP7G7",
        "colab": {
          "base_uri": "https://localhost:8080/"
        },
        "outputId": "82129449-9939-49f7-b4c8-b32fc7c2bbad"
      },
      "source": [
        "len(words_to_index)"
      ],
      "execution_count": null,
      "outputs": [
        {
          "output_type": "execute_result",
          "data": {
            "text/plain": [
              "95419"
            ]
          },
          "metadata": {
            "tags": []
          },
          "execution_count": 16
        }
      ]
    },
    {
      "cell_type": "code",
      "metadata": {
        "id": "4cfT3r4nc5GE"
      },
      "source": [
        "def read_glove_vector(glove_vec):\n",
        "  with open(glove_vec, 'r', encoding='UTF-8') as f:\n",
        "    words = set()\n",
        "    word_to_vec_map = {}\n",
        "    for line in f:\n",
        "      w_line = line.split()\n",
        "      curr_word = w_line[0]\n",
        "      word_to_vec_map[curr_word] = np.array(w_line[1:], dtype=np.float64)\n",
        "\n",
        "\n",
        "\n",
        "  return word_to_vec_map\n",
        ""
      ],
      "execution_count": null,
      "outputs": []
    },
    {
      "cell_type": "code",
      "metadata": {
        "id": "S4QJe7iZeDC1"
      },
      "source": [
        "word_to_vec_map = read_glove_vector('/content/drive/MyDrive/ISR Dataset/glove.6B.50d.txt')"
      ],
      "execution_count": null,
      "outputs": []
    },
    {
      "cell_type": "code",
      "metadata": {
        "id": "_VF9U14qjjXw"
      },
      "source": [
        "maxLen = 150\n"
      ],
      "execution_count": null,
      "outputs": []
    },
    {
      "cell_type": "code",
      "metadata": {
        "id": "Am3MZl2fobDn"
      },
      "source": [
        "\n",
        "vocab_len = len(words_to_index)\n",
        "embed_vector_len = word_to_vec_map['moon'].shape[0]\n",
        "\n",
        "emb_matrix = np.zeros((vocab_len, embed_vector_len))\n",
        "\n",
        "for word, index in words_to_index.items():\n",
        "  embedding_vector = word_to_vec_map.get(word)\n",
        "  if embedding_vector is not None:\n",
        "    emb_matrix[index, :] = embedding_vector\n",
        "\n",
        "embedding_layer = Embedding(input_dim=vocab_len, output_dim=embed_vector_len, input_length=maxLen, weights = [emb_matrix], trainable=False)\n",
        "\n",
        "\n",
        "\n",
        "\n"
      ],
      "execution_count": null,
      "outputs": []
    },
    {
      "cell_type": "code",
      "metadata": {
        "id": "DlqxRxizpZRl"
      },
      "source": [
        "def imdb_rating(input_shape):\n",
        "\n",
        "  X_indices = Input(input_shape)\n",
        "\n",
        "  embeddings = embedding_layer(X_indices)\n",
        "\n",
        "  X = LSTM(128, return_sequences=True)(embeddings)\n",
        "\n",
        "  X = Dropout(0.6)(X)\n",
        "\n",
        "  X = LSTM(128, return_sequences=True)(X)\n",
        "\n",
        "  X = Dropout(0.6)(X)\n",
        "\n",
        "  X = LSTM(128)(X)\n",
        "\n",
        "  X = Dense(1, activation='sigmoid')(X)\n",
        "\n",
        "  model = Model(inputs=X_indices, outputs=X)\n",
        "\n",
        "  return model"
      ],
      "execution_count": null,
      "outputs": []
    },
    {
      "cell_type": "code",
      "metadata": {
        "id": "PeB6unmRpa2a",
        "colab": {
          "base_uri": "https://localhost:8080/"
        },
        "outputId": "110e9016-8bd7-4c7b-fc8c-db9790f6f873"
      },
      "source": [
        "model = imdb_rating((maxLen,))\n",
        "model.summary()"
      ],
      "execution_count": null,
      "outputs": [
        {
          "output_type": "stream",
          "text": [
            "Model: \"model\"\n",
            "_________________________________________________________________\n",
            "Layer (type)                 Output Shape              Param #   \n",
            "=================================================================\n",
            "input_1 (InputLayer)         [(None, 150)]             0         \n",
            "_________________________________________________________________\n",
            "embedding (Embedding)        (None, 150, 50)           4770950   \n",
            "_________________________________________________________________\n",
            "lstm (LSTM)                  (None, 150, 128)          91648     \n",
            "_________________________________________________________________\n",
            "dropout (Dropout)            (None, 150, 128)          0         \n",
            "_________________________________________________________________\n",
            "lstm_1 (LSTM)                (None, 150, 128)          131584    \n",
            "_________________________________________________________________\n",
            "dropout_1 (Dropout)          (None, 150, 128)          0         \n",
            "_________________________________________________________________\n",
            "lstm_2 (LSTM)                (None, 128)               131584    \n",
            "_________________________________________________________________\n",
            "dense (Dense)                (None, 1)                 129       \n",
            "=================================================================\n",
            "Total params: 5,125,895\n",
            "Trainable params: 354,945\n",
            "Non-trainable params: 4,770,950\n",
            "_________________________________________________________________\n"
          ],
          "name": "stdout"
        }
      ]
    },
    {
      "cell_type": "code",
      "metadata": {
        "id": "Z_ygaA18uv9Z"
      },
      "source": [
        "X_train_indices = tokenizer.texts_to_sequences(X_train)"
      ],
      "execution_count": null,
      "outputs": []
    },
    {
      "cell_type": "code",
      "metadata": {
        "id": "NSdM8mIMRRnM",
        "colab": {
          "base_uri": "https://localhost:8080/"
        },
        "outputId": "87f60ef9-3e84-4ed3-e498-93d08ab566ee"
      },
      "source": [
        "X_train_indices = pad_sequences(X_train_indices, maxlen=maxLen, padding='post')\n",
        "X_train_indices.shape"
      ],
      "execution_count": null,
      "outputs": [
        {
          "output_type": "execute_result",
          "data": {
            "text/plain": [
              "(40000, 150)"
            ]
          },
          "metadata": {
            "tags": []
          },
          "execution_count": 24
        }
      ]
    },
    {
      "cell_type": "code",
      "metadata": {
        "id": "mwYyQk7_JvYg"
      },
      "source": [
        "adam = keras.optimizers.Adam(learning_rate = 0.0001)\n",
        "model.compile(optimizer=adam, loss='binary_crossentropy', metrics=['accuracy'])"
      ],
      "execution_count": null,
      "outputs": []
    },
    {
      "cell_type": "code",
      "metadata": {
        "colab": {
          "base_uri": "https://localhost:8080/"
        },
        "id": "qKidFd7qhbqO",
        "outputId": "e5fa375a-e967-40f1-da31-84b779fdf2ed"
      },
      "source": [
        "history=model.fit(X_train_indices, Y_train,validation_split=0.2, batch_size=64, epochs=15)"
      ],
      "execution_count": null,
      "outputs": [
        {
          "output_type": "stream",
          "text": [
            "Epoch 1/15\n",
            "500/500 [==============================] - 37s 30ms/step - loss: 0.6498 - accuracy: 0.5959 - val_loss: 0.5216 - val_accuracy: 0.7510\n",
            "Epoch 2/15\n",
            "500/500 [==============================] - 14s 28ms/step - loss: 0.5192 - accuracy: 0.7501 - val_loss: 0.4923 - val_accuracy: 0.7714\n",
            "Epoch 3/15\n",
            "500/500 [==============================] - 14s 28ms/step - loss: 0.4835 - accuracy: 0.7730 - val_loss: 0.4725 - val_accuracy: 0.7807\n",
            "Epoch 4/15\n",
            "500/500 [==============================] - 14s 28ms/step - loss: 0.4575 - accuracy: 0.7848 - val_loss: 0.4463 - val_accuracy: 0.7906\n",
            "Epoch 5/15\n",
            "500/500 [==============================] - 14s 28ms/step - loss: 0.4369 - accuracy: 0.7981 - val_loss: 0.4243 - val_accuracy: 0.8073\n",
            "Epoch 6/15\n",
            "500/500 [==============================] - 14s 28ms/step - loss: 0.4221 - accuracy: 0.8088 - val_loss: 0.3980 - val_accuracy: 0.8251\n",
            "Epoch 7/15\n",
            "500/500 [==============================] - 14s 28ms/step - loss: 0.3914 - accuracy: 0.8279 - val_loss: 0.3972 - val_accuracy: 0.8260\n",
            "Epoch 8/15\n",
            "500/500 [==============================] - 14s 28ms/step - loss: 0.3877 - accuracy: 0.8279 - val_loss: 0.3874 - val_accuracy: 0.8307\n",
            "Epoch 9/15\n",
            "500/500 [==============================] - 14s 28ms/step - loss: 0.3670 - accuracy: 0.8386 - val_loss: 0.3779 - val_accuracy: 0.8296\n",
            "Epoch 10/15\n",
            "500/500 [==============================] - 14s 28ms/step - loss: 0.3684 - accuracy: 0.8378 - val_loss: 0.3728 - val_accuracy: 0.8347\n",
            "Epoch 11/15\n",
            "500/500 [==============================] - 14s 28ms/step - loss: 0.3655 - accuracy: 0.8378 - val_loss: 0.3863 - val_accuracy: 0.8279\n",
            "Epoch 12/15\n",
            "500/500 [==============================] - 14s 28ms/step - loss: 0.3569 - accuracy: 0.8455 - val_loss: 0.3795 - val_accuracy: 0.8320\n",
            "Epoch 13/15\n",
            "500/500 [==============================] - 14s 28ms/step - loss: 0.3479 - accuracy: 0.8517 - val_loss: 0.3664 - val_accuracy: 0.8378\n",
            "Epoch 14/15\n",
            "500/500 [==============================] - 14s 28ms/step - loss: 0.3467 - accuracy: 0.8471 - val_loss: 0.3621 - val_accuracy: 0.8403\n",
            "Epoch 15/15\n",
            "500/500 [==============================] - 14s 28ms/step - loss: 0.3342 - accuracy: 0.8540 - val_loss: 0.3748 - val_accuracy: 0.8441\n"
          ],
          "name": "stdout"
        }
      ]
    },
    {
      "cell_type": "code",
      "metadata": {
        "id": "djLd_9OFlz8A"
      },
      "source": [],
      "execution_count": null,
      "outputs": []
    },
    {
      "cell_type": "code",
      "metadata": {
        "id": "hYuWOzjrVlWb"
      },
      "source": [
        "import matplotlib.pyplot as plt"
      ],
      "execution_count": null,
      "outputs": []
    },
    {
      "cell_type": "code",
      "metadata": {
        "colab": {
          "base_uri": "https://localhost:8080/",
          "height": 406
        },
        "id": "6eP_nTCUH5u9",
        "outputId": "171ac2bb-baa2-4def-e0e2-44c68c2cce1d"
      },
      "source": [
        "fig, (axis1, axis2) = plt.subplots(nrows=1, ncols=2, figsize=(16,6))\n",
        "\n",
        "# summarize history for accuracy\n",
        "axis1.plot(history.history['accuracy'], label='Train', linewidth=3)\n",
        "axis1.plot(history.history['val_accuracy'], label='Validation', linewidth=3)\n",
        "axis1.set_title('Model accuracy', fontsize=16)\n",
        "axis1.set_ylabel('accuracy')\n",
        "axis1.set_xlabel('epoch')\n",
        "axis1.legend(loc='upper left')\n",
        "\n",
        "# summarize history for loss\n",
        "axis2.plot(history.history['loss'], label='Train', linewidth=3)\n",
        "axis2.plot(history.history['val_loss'], label='Validation', linewidth=3)\n",
        "axis2.set_title('Model loss', fontsize=16)\n",
        "axis2.set_ylabel('loss')\n",
        "axis2.set_xlabel('epoch')\n",
        "axis2.legend(loc='upper right')\n",
        "plt.show()"
      ],
      "execution_count": null,
      "outputs": [
        {
          "output_type": "display_data",
          "data": {
            "image/png": "[encoded data removed]",
            "text/plain": [
              "<Figure size 1152x432 with 2 Axes>"
            ]
          },
          "metadata": {
            "tags": [],
            "needs_background": "light"
          }
        }
      ]
    },
    {
      "cell_type": "code",
      "metadata": {
        "id": "Bg9-N-OumFb4"
      },
      "source": [],
      "execution_count": null,
      "outputs": []
    },
    {
      "cell_type": "code",
      "metadata": {
        "id": "oVY1gYalXkO7"
      },
      "source": [
        "X_test_indices = tokenizer.texts_to_sequences(X_test)\n",
        "\n",
        "X_test_indices = pad_sequences(X_test_indices, maxlen=maxLen, padding='post')"
      ],
      "execution_count": null,
      "outputs": []
    },
    {
      "cell_type": "code",
      "metadata": {
        "colab": {
          "base_uri": "https://localhost:8080/"
        },
        "id": "0YeB3SFTTMvP",
        "outputId": "3976023e-34cd-4ed4-aa4f-126c72f9f030"
      },
      "source": [
        "model.evaluate(X_test_indices,Y_test)"
      ],
      "execution_count": null,
      "outputs": [
        {
          "output_type": "stream",
          "text": [
            "313/313 [==============================] - 5s 12ms/step - loss: 0.3686 - accuracy: 0.8426\n"
          ],
          "name": "stdout"
        },
        {
          "output_type": "execute_result",
          "data": {
            "text/plain": [
              "[0.3686337172985077, 0.8425999879837036]"
            ]
          },
          "metadata": {
            "tags": []
          },
          "execution_count": 30
        }
      ]
    },
    {
      "cell_type": "code",
      "metadata": {
        "id": "-SKL-SzCs9e4"
      },
      "source": [
        "preds = model.predict(X_test_indices)"
      ],
      "execution_count": null,
      "outputs": []
    },
    {
      "cell_type": "code",
      "metadata": {
        "id": "w_vyAiZZ-7hy",
        "colab": {
          "base_uri": "https://localhost:8080/",
          "height": 70
        },
        "outputId": "96eb1214-1c58-40be-cd0c-f6150bba2f85"
      },
      "source": [
        "n = np.random.randint(0,9999)\n",
        "\n",
        "X_test[n]\n"
      ],
      "execution_count": null,
      "outputs": [
        {
          "output_type": "execute_result",
          "data": {
            "application/vnd.google.colaboratory.intrinsic+json": {
              "type": "string"
            },
            "text/plain": [
              "'meteor crashes crater lake  heat impact causing prehistoric egg hatch alright  plot just trash  despite obvious low budget  comes across one gripping entertaining monster on the loose films existence  also good moments humor  age filled so called  monsters  no laughable men in rubber suit creations lizards dressed frills forced rip pieces  cheap exploitation style   refreshing discover plesiosaur little gem excellent harryhausen style stop motion creature quite hard film find  worth finding '"
            ]
          },
          "metadata": {
            "tags": []
          },
          "execution_count": 32
        }
      ]
    },
    {
      "cell_type": "code",
      "metadata": {
        "id": "kTtNGnSj0xJ9",
        "colab": {
          "base_uri": "https://localhost:8080/"
        },
        "outputId": "3682c025-b760-47dc-9636-2b84480f9ad4"
      },
      "source": [
        "if preds[n] > 0.5:\n",
        "  print('predicted sentiment : positive')\n",
        "else:\n",
        "  print('precicted sentiment : negative')\n",
        "\n",
        "if (Y_test[n] == 1):\n",
        "  print('correct sentiment : positive')\n",
        "else:\n",
        "  print('correct sentiment : negative')\n"
      ],
      "execution_count": null,
      "outputs": [
        {
          "output_type": "stream",
          "text": [
            "predicted sentiment : positive\n",
            "correct sentiment : positive\n"
          ],
          "name": "stdout"
        }
      ]
    },
    {
      "cell_type": "code",
      "metadata": {
        "id": "qYeroDRh_GSQ",
        "colab": {
          "base_uri": "https://localhost:8080/"
        },
        "outputId": "f6ce8651-4764-4743-aca1-ad03d76e9e45"
      },
      "source": [
        "preds[n]"
      ],
      "execution_count": null,
      "outputs": [
        {
          "output_type": "execute_result",
          "data": {
            "text/plain": [
              "array([0.95161897], dtype=float32)"
            ]
          },
          "metadata": {
            "tags": []
          },
          "execution_count": 34
        }
      ]
    },
    {
      "cell_type": "code",
      "metadata": {
        "id": "CRX1lXzyAiCk",
        "colab": {
          "base_uri": "https://localhost:8080/"
        },
        "outputId": "a3587833-759b-4b0e-9c3f-32e10bf6d2b2"
      },
      "source": [
        "Y_test[n]"
      ],
      "execution_count": null,
      "outputs": [
        {
          "output_type": "execute_result",
          "data": {
            "text/plain": [
              "1"
            ]
          },
          "metadata": {
            "tags": []
          },
          "execution_count": 35
        }
      ]
    },
    {
      "cell_type": "code",
      "metadata": {
        "id": "rlaIVgF5mT7I"
      },
      "source": [],
      "execution_count": null,
      "outputs": []
    },
    {
      "cell_type": "code",
      "metadata": {
        "id": "mrs5rNzXisdD"
      },
      "source": [
        "reviews_list_idx = tokenizer.texts_to_sequences(reviews_list)"
      ],
      "execution_count": null,
      "outputs": []
    },
    {
      "cell_type": "code",
      "metadata": {
        "id": "o5VqbyPE2JXs"
      },
      "source": [
        "def add_score_predictions(data, reviews_list_idx):\n",
        "\n",
        "  data['sentiment score'] = 0\n",
        "\n",
        "  reviews_list_idx = pad_sequences(reviews_list_idx, maxlen=maxLen, padding='post')\n",
        "\n",
        "  review_preds = model.predict(reviews_list_idx)\n",
        "\n",
        "  data['sentiment score'] = review_preds\n",
        "\n",
        "  pred_sentiment = np.array(list(map(lambda x : 'positive' if x > 0.5 else 'negative',review_preds)))\n",
        "\n",
        "  data['predicted sentiment'] = 0\n",
        "\n",
        "  data['predicted sentiment'] = pred_sentiment\n",
        "\n",
        "  return data\n",
        "\n",
        ""
      ],
      "execution_count": null,
      "outputs": []
    },
    {
      "cell_type": "code",
      "metadata": {
        "id": "M2SPaF7N3C3g"
      },
      "source": [
        "data = add_score_predictions(data, reviews_list_idx)"
      ],
      "execution_count": null,
      "outputs": []
    },
    {
      "cell_type": "code",
      "metadata": {
        "id": "vpHAcJ4c3MYN",
        "colab": {
          "base_uri": "https://localhost:8080/",
          "height": 534
        },
        "outputId": "7f8be445-4c45-4f64-cb8f-4149d60a18da"
      },
      "source": [
        "data"
      ],
      "execution_count": null,
      "outputs": [
        {
          "output_type": "execute_result",
          "data": {
            "text/html": [
              "<div>\n",
              "<style scoped>\n",
              "    .dataframe tbody tr th:only-of-type {\n",
              "        vertical-align: middle;\n",
              "    }\n",
              "\n",
              "    .dataframe tbody tr th {\n",
              "        vertical-align: top;\n",
              "    }\n",
              "\n",
              "    .dataframe thead th {\n",
              "        text-align: right;\n",
              "    }\n",
              "</style>\n",
              "<table border=\"1\" class=\"dataframe\">\n",
              "  <thead>\n",
              "    <tr style=\"text-align: right;\">\n",
              "      <th></th>\n",
              "      <th>review</th>\n",
              "      <th>sentiment</th>\n",
              "      <th>review without stopwords</th>\n",
              "      <th>clean_review</th>\n",
              "      <th>sentiment score</th>\n",
              "      <th>predicted sentiment</th>\n",
              "    </tr>\n",
              "  </thead>\n",
              "  <tbody>\n",
              "    <tr>\n",
              "      <th>0</th>\n",
              "      <td>one of the other reviewers has mentioned that ...</td>\n",
              "      <td>positive</td>\n",
              "      <td>one reviewers mentioned watching just 1 oz epi...</td>\n",
              "      <td>one reviewers mentioned watching just 1 oz epi...</td>\n",
              "      <td>0.479958</td>\n",
              "      <td>negative</td>\n",
              "    </tr>\n",
              "    <tr>\n",
              "      <th>1</th>\n",
              "      <td>a wonderful little production. &lt;br /&gt;&lt;br /&gt;the...</td>\n",
              "      <td>positive</td>\n",
              "      <td>wonderful little production. &lt;br /&gt;&lt;br /&gt;the f...</td>\n",
              "      <td>wonderful little production  the filming techn...</td>\n",
              "      <td>0.991286</td>\n",
              "      <td>positive</td>\n",
              "    </tr>\n",
              "    <tr>\n",
              "      <th>2</th>\n",
              "      <td>i thought this was a wonderful way to spend ti...</td>\n",
              "      <td>positive</td>\n",
              "      <td>thought wonderful way spend time hot summer we...</td>\n",
              "      <td>thought wonderful way spend time hot summer we...</td>\n",
              "      <td>0.991914</td>\n",
              "      <td>positive</td>\n",
              "    </tr>\n",
              "    <tr>\n",
              "      <th>3</th>\n",
              "      <td>basically there's a family where a little boy ...</td>\n",
              "      <td>negative</td>\n",
              "      <td>basically family little boy (jake) thinks zomb...</td>\n",
              "      <td>basically family little boy  jake  thinks zomb...</td>\n",
              "      <td>0.025140</td>\n",
              "      <td>negative</td>\n",
              "    </tr>\n",
              "    <tr>\n",
              "      <th>4</th>\n",
              "      <td>petter mattei's \"love in the time of money\" is...</td>\n",
              "      <td>positive</td>\n",
              "      <td>petter mattei's \"love time money\" visually stu...</td>\n",
              "      <td>petter mattei s  love time money  visually stu...</td>\n",
              "      <td>0.993747</td>\n",
              "      <td>positive</td>\n",
              "    </tr>\n",
              "    <tr>\n",
              "      <th>...</th>\n",
              "      <td>...</td>\n",
              "      <td>...</td>\n",
              "      <td>...</td>\n",
              "      <td>...</td>\n",
              "      <td>...</td>\n",
              "      <td>...</td>\n",
              "    </tr>\n",
              "    <tr>\n",
              "      <th>49995</th>\n",
              "      <td>i thought this movie did a down right good job...</td>\n",
              "      <td>positive</td>\n",
              "      <td>thought movie right good job. wasn't creative ...</td>\n",
              "      <td>thought movie right good job  wasn t creative ...</td>\n",
              "      <td>0.918343</td>\n",
              "      <td>positive</td>\n",
              "    </tr>\n",
              "    <tr>\n",
              "      <th>49996</th>\n",
              "      <td>bad plot, bad dialogue, bad acting, idiotic di...</td>\n",
              "      <td>negative</td>\n",
              "      <td>bad plot, bad dialogue, bad acting, idiotic di...</td>\n",
              "      <td>bad plot  bad dialogue  bad acting  idiotic di...</td>\n",
              "      <td>0.004684</td>\n",
              "      <td>negative</td>\n",
              "    </tr>\n",
              "    <tr>\n",
              "      <th>49997</th>\n",
              "      <td>i am a catholic taught in parochial elementary...</td>\n",
              "      <td>negative</td>\n",
              "      <td>catholic taught parochial elementary schools n...</td>\n",
              "      <td>catholic taught parochial elementary schools n...</td>\n",
              "      <td>0.455533</td>\n",
              "      <td>negative</td>\n",
              "    </tr>\n",
              "    <tr>\n",
              "      <th>49998</th>\n",
              "      <td>i'm going to have to disagree with the previou...</td>\n",
              "      <td>negative</td>\n",
              "      <td>going disagree previous comment side maltin on...</td>\n",
              "      <td>going disagree previous comment side maltin on...</td>\n",
              "      <td>0.859078</td>\n",
              "      <td>positive</td>\n",
              "    </tr>\n",
              "    <tr>\n",
              "      <th>49999</th>\n",
              "      <td>no one expects the star trek movies to be high...</td>\n",
              "      <td>negative</td>\n",
              "      <td>no one expects star trek movies high art, fans...</td>\n",
              "      <td>no one expects star trek movies high art  fans...</td>\n",
              "      <td>0.036238</td>\n",
              "      <td>negative</td>\n",
              "    </tr>\n",
              "  </tbody>\n",
              "</table>\n",
              "<p>50000 rows × 6 columns</p>\n",
              "</div>"
            ],
            "text/plain": [
              "                                                  review  ... predicted sentiment\n",
              "0      one of the other reviewers has mentioned that ...  ...            negative\n",
              "1      a wonderful little production. <br /><br />the...  ...            positive\n",
              "2      i thought this was a wonderful way to spend ti...  ...            positive\n",
              "3      basically there's a family where a little boy ...  ...            negative\n",
              "4      petter mattei's \"love in the time of money\" is...  ...            positive\n",
              "...                                                  ...  ...                 ...\n",
              "49995  i thought this movie did a down right good job...  ...            positive\n",
              "49996  bad plot, bad dialogue, bad acting, idiotic di...  ...            negative\n",
              "49997  i am a catholic taught in parochial elementary...  ...            negative\n",
              "49998  i'm going to have to disagree with the previou...  ...            positive\n",
              "49999  no one expects the star trek movies to be high...  ...            negative\n",
              "\n",
              "[50000 rows x 6 columns]"
            ]
          },
          "metadata": {
            "tags": []
          },
          "execution_count": 39
        }
      ]
    },
    {
      "cell_type": "code",
      "metadata": {
        "id": "sndfUxq4mkNL"
      },
      "source": [],
      "execution_count": null,
      "outputs": []
    },
    {
      "cell_type": "code",
      "metadata": {
        "id": "9phYy-BbV26M"
      },
      "source": [
        "z_original = np.array(list(map(lambda x: 1 if x==\"positive\" else 0, data.sentiment)))"
      ],
      "execution_count": null,
      "outputs": []
    },
    {
      "cell_type": "code",
      "metadata": {
        "id": "dHeO1jyoWgVZ"
      },
      "source": [
        "z_predicted= np.array(list(map(lambda x: 1 if x==\"positive\" else 0, data['predicted sentiment'])))"
      ],
      "execution_count": null,
      "outputs": []
    },
    {
      "cell_type": "code",
      "metadata": {
        "id": "_BShhkdLW5gR"
      },
      "source": [
        "from sklearn.metrics import confusion_matrix\n",
        "from sklearn.metrics import classification_report"
      ],
      "execution_count": null,
      "outputs": []
    },
    {
      "cell_type": "code",
      "metadata": {
        "colab": {
          "base_uri": "https://localhost:8080/"
        },
        "id": "d9IvbAOyXIEi",
        "outputId": "3b2d3b6c-4e48-4064-bbb0-65f476bc0fa0"
      },
      "source": [
        "matrix = confusion_matrix(z_original,z_predicted, labels=[1,0])\n",
        "print('Confusion matrix : \\n',matrix)\n",
        "\n",
        "# outcome values order in sklearn\n",
        "tp, fn, fp, tn = confusion_matrix(z_original,z_predicted,labels=[1,0]).reshape(-1)\n",
        "print('Outcome values : \\n', tp, fn, fp, tn)\n",
        "\n",
        "# classification report for precision, recall f1-score and accuracy\n",
        "matrix = classification_report(z_original,z_predicted,labels=[1,0])\n",
        "print('Classification report : \\n',matrix)"
      ],
      "execution_count": null,
      "outputs": [
        {
          "output_type": "stream",
          "text": [
            "Confusion matrix : \n",
            " [[22141  2859]\n",
            " [ 4529 20471]]\n",
            "Outcome values : \n",
            " 22141 2859 4529 20471\n",
            "Classification report : \n",
            "               precision    recall  f1-score   support\n",
            "\n",
            "           1       0.83      0.89      0.86     25000\n",
            "           0       0.88      0.82      0.85     25000\n",
            "\n",
            "    accuracy                           0.85     50000\n",
            "   macro avg       0.85      0.85      0.85     50000\n",
            "weighted avg       0.85      0.85      0.85     50000\n",
            "\n"
          ],
          "name": "stdout"
        }
      ]
    },
    {
      "cell_type": "code",
      "metadata": {
        "id": "0gJ1B7oBZOh0"
      },
      "source": [
        "import seaborn as sb"
      ],
      "execution_count": null,
      "outputs": []
    },
    {
      "cell_type": "code",
      "metadata": {
        "id": "sKC5Z__sYSX2"
      },
      "source": [
        "def plot_confusion_matrix(z_original, z_predicted, ax, class_names, vmax=None,\n",
        "                          normed=True, title='Confusion matrix'):\n",
        "    matrix = confusion_matrix(z_original,z_predicted)\n",
        "    if normed:\n",
        "        matrix = matrix.astype('float') / matrix.sum(axis=1)[:, np.newaxis]\n",
        "    sb.heatmap(matrix, vmax=vmax, annot=True, square=True, ax=ax,\n",
        "               cmap=plt.cm.Blues_r, cbar=False, linecolor='black',\n",
        "               linewidths=1, xticklabels=class_names)\n",
        "    ax.set_title(title, y=1.20, fontsize=16)\n",
        "    #ax.set_ylabel('True labels', fontsize=12)\n",
        "    ax.set_xlabel('Predicted labels', y=1.10, fontsize=12)\n",
        "    ax.set_yticklabels(class_names, rotation=0)"
      ],
      "execution_count": null,
      "outputs": []
    },
    {
      "cell_type": "code",
      "metadata": {
        "colab": {
          "base_uri": "https://localhost:8080/",
          "height": 305
        },
        "id": "rNwMR3MvYkSr",
        "outputId": "23f38825-ee23-4d46-9802-947914d256a9"
      },
      "source": [
        "fig, (axis1, axis2) = plt.subplots(nrows=1, ncols=2)\n",
        "plot_confusion_matrix(z_original, z_predicted, ax=axis1,\n",
        "                      title='Confusion matrix (train data)',\n",
        "                      class_names=['Positive', 'Negative'])\n",
        "'''plot_confusion_matrix(y_test, y_test_pred, ax=axis2,\n",
        "                      title='Confusion matrix (test data)',\n",
        "                      class_names=['Positive', 'Negative'])'''"
      ],
      "execution_count": null,
      "outputs": [
        {
          "output_type": "execute_result",
          "data": {
            "application/vnd.google.colaboratory.intrinsic+json": {
              "type": "string"
            },
            "text/plain": [
              "\"plot_confusion_matrix(y_test, y_test_pred, ax=axis2,\\n                      title='Confusion matrix (test data)',\\n                      class_names=['Positive', 'Negative'])\""
            ]
          },
          "metadata": {
            "tags": []
          },
          "execution_count": 46
        },
        {
          "output_type": "display_data",
          "data": {
            "image/png": "[encoded data removed]",
            "text/plain": [
              "<Figure size 432x288 with 2 Axes>"
            ]
          },
          "metadata": {
            "tags": [],
            "needs_background": "light"
          }
        }
      ]
    }
  ]
}
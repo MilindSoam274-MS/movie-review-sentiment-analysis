{
  "nbformat": 4,
  "nbformat_minor": 0,
  "metadata": {
    "colab": {
      "provenance": []
    },
    "kernelspec": {
      "name": "python3",
      "display_name": "Python 3"
    },
    "language_info": {
      "name": "python"
    },
    "accelerator": "GPU"
  },
  "cells": [
    {
      "cell_type": "code",
      "metadata": {
        "id": "uUE3XrOu6EzI"
      },
      "source": [
        "import warnings\n",
        "warnings.filterwarnings('ignore')\n",
        "\n",
        "# Modules for data manipulation\n",
        "import numpy as np\n",
        "import pandas as pd\n",
        "import re\n",
        "\n",
        "# Modules for visualization\n",
        "import matplotlib.pyplot as plt\n",
        "import seaborn as sb\n",
        "\n",
        "# Tools for preprocessing input data\n",
        "from bs4 import BeautifulSoup\n",
        "from nltk import word_tokenize\n",
        "from nltk.corpus import stopwords\n",
        "from nltk.stem import WordNetLemmatizer\n",
        "\n",
        "# Tools for creating ngrams and vectorizing input data\n",
        "from gensim.models import Word2Vec, Phrases\n",
        "\n",
        "# Tools for building a model\n",
        "from sklearn.model_selection import train_test_split\n",
        "from keras.models import Sequential\n",
        "from keras.layers import Dense, LSTM, Dropout, Bidirectional\n",
        "from keras.layers.embeddings import Embedding\n",
        "from keras.preprocessing.sequence import pad_sequences\n",
        "\n",
        "# Tools for assessing the quality of model prediction\n",
        "from sklearn.metrics import accuracy_score, confusion_matrix\n"
      ],
      "execution_count": null,
      "outputs": []
    },
    {
      "cell_type": "code",
      "metadata": {
        "id": "r-f0uZnJ7Yx1"
      },
      "source": [
        "SMALL_SIZE = 12\n",
        "MEDIUM_SIZE = 14\n",
        "BIG_SIZE = 16\n",
        "LARGE_SIZE = 20\n",
        "\n",
        "params = {\n",
        "    'figure.figsize': (16, 8),\n",
        "    'font.size': SMALL_SIZE,\n",
        "    'xtick.labelsize': MEDIUM_SIZE,\n",
        "    'ytick.labelsize': MEDIUM_SIZE,\n",
        "    'legend.fontsize': BIG_SIZE,\n",
        "    'figure.titlesize': LARGE_SIZE,\n",
        "    'axes.titlesize': MEDIUM_SIZE,\n",
        "    'axes.labelsize': BIG_SIZE\n",
        "}\n",
        "plt.rcParams.update(params)"
      ],
      "execution_count": null,
      "outputs": []
    },
    {
      "cell_type": "code",
      "metadata": {
        "id": "eE1Mi3_J7w68"
      },
      "source": [
        "train_data = pd.read_csv('/content/drive/MyDrive/ISR Dataset/IMDB Dataset.csv')\n",
        "\n",
        "train_data['review'] = train_data['review'].str.lower()"
      ],
      "execution_count": null,
      "outputs": []
    },
    {
      "cell_type": "code",
      "metadata": {
        "colab": {
          "base_uri": "https://localhost:8080/"
        },
        "id": "0x4LaZDZ8NKL",
        "outputId": "414c1b2c-05a0-4011-d668-d76595f2304b"
      },
      "source": [
        "train_data.info()"
      ],
      "execution_count": null,
      "outputs": [
        {
          "output_type": "stream",
          "text": [
            "<class 'pandas.core.frame.DataFrame'>\n",
            "RangeIndex: 50000 entries, 0 to 49999\n",
            "Data columns (total 2 columns):\n",
            " #   Column     Non-Null Count  Dtype \n",
            "---  ------     --------------  ----- \n",
            " 0   review     50000 non-null  object\n",
            " 1   sentiment  50000 non-null  object\n",
            "dtypes: object(2)\n",
            "memory usage: 781.4+ KB\n"
          ],
          "name": "stdout"
        }
      ]
    },
    {
      "cell_type": "code",
      "metadata": {
        "id": "bnAK8LLCBJVS"
      },
      "source": [
        "sentiment=train_data['sentiment']\n",
        "train_data['sentiment']=np.array(list(map(lambda x: 1 if x==\"positive\" else 0, sentiment)))"
      ],
      "execution_count": null,
      "outputs": []
    },
    {
      "cell_type": "code",
      "metadata": {
        "colab": {
          "base_uri": "https://localhost:8080/",
          "height": 195
        },
        "id": "rdIEaQKi8W9a",
        "outputId": "27d2ec7d-b032-44bb-85a3-fb21ae1c8cfa"
      },
      "source": [
        "train_data.head()"
      ],
      "execution_count": null,
      "outputs": [
        {
          "output_type": "execute_result",
          "data": {
            "text/html": [
              "<div>\n",
              "<style scoped>\n",
              "    .dataframe tbody tr th:only-of-type {\n",
              "        vertical-align: middle;\n",
              "    }\n",
              "\n",
              "    .dataframe tbody tr th {\n",
              "        vertical-align: top;\n",
              "    }\n",
              "\n",
              "    .dataframe thead th {\n",
              "        text-align: right;\n",
              "    }\n",
              "</style>\n",
              "<table border=\"1\" class=\"dataframe\">\n",
              "  <thead>\n",
              "    <tr style=\"text-align: right;\">\n",
              "      <th></th>\n",
              "      <th>review</th>\n",
              "      <th>sentiment</th>\n",
              "    </tr>\n",
              "  </thead>\n",
              "  <tbody>\n",
              "    <tr>\n",
              "      <th>0</th>\n",
              "      <td>one of the other reviewers has mentioned that ...</td>\n",
              "      <td>1</td>\n",
              "    </tr>\n",
              "    <tr>\n",
              "      <th>1</th>\n",
              "      <td>a wonderful little production. &lt;br /&gt;&lt;br /&gt;the...</td>\n",
              "      <td>1</td>\n",
              "    </tr>\n",
              "    <tr>\n",
              "      <th>2</th>\n",
              "      <td>i thought this was a wonderful way to spend ti...</td>\n",
              "      <td>1</td>\n",
              "    </tr>\n",
              "    <tr>\n",
              "      <th>3</th>\n",
              "      <td>basically there's a family where a little boy ...</td>\n",
              "      <td>0</td>\n",
              "    </tr>\n",
              "    <tr>\n",
              "      <th>4</th>\n",
              "      <td>petter mattei's \"love in the time of money\" is...</td>\n",
              "      <td>1</td>\n",
              "    </tr>\n",
              "  </tbody>\n",
              "</table>\n",
              "</div>"
            ],
            "text/plain": [
              "                                              review  sentiment\n",
              "0  one of the other reviewers has mentioned that ...          1\n",
              "1  a wonderful little production. <br /><br />the...          1\n",
              "2  i thought this was a wonderful way to spend ti...          1\n",
              "3  basically there's a family where a little boy ...          0\n",
              "4  petter mattei's \"love in the time of money\" is...          1"
            ]
          },
          "metadata": {
            "tags": []
          },
          "execution_count": 6
        }
      ]
    },
    {
      "cell_type": "code",
      "metadata": {
        "colab": {
          "base_uri": "https://localhost:8080/",
          "height": 371
        },
        "id": "q30gk2Q19Ogd",
        "outputId": "7612ba94-2f01-4d23-c440-cf14c18bcf04"
      },
      "source": [
        "datasets = [train_data]\n",
        "titles = ['Train data']\n",
        "for dataset, title in zip(datasets,titles):\n",
        "    print(title)\n",
        "    dataset.info()\n",
        "    display(dataset.head())"
      ],
      "execution_count": null,
      "outputs": [
        {
          "output_type": "stream",
          "text": [
            "Train data\n",
            "<class 'pandas.core.frame.DataFrame'>\n",
            "RangeIndex: 50000 entries, 0 to 49999\n",
            "Data columns (total 2 columns):\n",
            " #   Column     Non-Null Count  Dtype \n",
            "---  ------     --------------  ----- \n",
            " 0   review     50000 non-null  object\n",
            " 1   sentiment  50000 non-null  int64 \n",
            "dtypes: int64(1), object(1)\n",
            "memory usage: 781.4+ KB\n"
          ],
          "name": "stdout"
        },
        {
          "output_type": "display_data",
          "data": {
            "text/html": [
              "<div>\n",
              "<style scoped>\n",
              "    .dataframe tbody tr th:only-of-type {\n",
              "        vertical-align: middle;\n",
              "    }\n",
              "\n",
              "    .dataframe tbody tr th {\n",
              "        vertical-align: top;\n",
              "    }\n",
              "\n",
              "    .dataframe thead th {\n",
              "        text-align: right;\n",
              "    }\n",
              "</style>\n",
              "<table border=\"1\" class=\"dataframe\">\n",
              "  <thead>\n",
              "    <tr style=\"text-align: right;\">\n",
              "      <th></th>\n",
              "      <th>review</th>\n",
              "      <th>sentiment</th>\n",
              "    </tr>\n",
              "  </thead>\n",
              "  <tbody>\n",
              "    <tr>\n",
              "      <th>0</th>\n",
              "      <td>one of the other reviewers has mentioned that ...</td>\n",
              "      <td>1</td>\n",
              "    </tr>\n",
              "    <tr>\n",
              "      <th>1</th>\n",
              "      <td>a wonderful little production. &lt;br /&gt;&lt;br /&gt;the...</td>\n",
              "      <td>1</td>\n",
              "    </tr>\n",
              "    <tr>\n",
              "      <th>2</th>\n",
              "      <td>i thought this was a wonderful way to spend ti...</td>\n",
              "      <td>1</td>\n",
              "    </tr>\n",
              "    <tr>\n",
              "      <th>3</th>\n",
              "      <td>basically there's a family where a little boy ...</td>\n",
              "      <td>0</td>\n",
              "    </tr>\n",
              "    <tr>\n",
              "      <th>4</th>\n",
              "      <td>petter mattei's \"love in the time of money\" is...</td>\n",
              "      <td>1</td>\n",
              "    </tr>\n",
              "  </tbody>\n",
              "</table>\n",
              "</div>"
            ],
            "text/plain": [
              "                                              review  sentiment\n",
              "0  one of the other reviewers has mentioned that ...          1\n",
              "1  a wonderful little production. <br /><br />the...          1\n",
              "2  i thought this was a wonderful way to spend ti...          1\n",
              "3  basically there's a family where a little boy ...          0\n",
              "4  petter mattei's \"love in the time of money\" is...          1"
            ]
          },
          "metadata": {
            "tags": []
          }
        }
      ]
    },
    {
      "cell_type": "code",
      "metadata": {
        "colab": {
          "base_uri": "https://localhost:8080/"
        },
        "id": "qMFVuNmQ9g37",
        "outputId": "a0ea7824-352d-45c4-98e2-7c016f3a2e6d"
      },
      "source": [
        "all_reviews = np.array([], dtype=str)\n",
        "for dataset in datasets:\n",
        "    all_reviews = np.concatenate((all_reviews, dataset.review), axis=0)\n",
        "print('Total number of reviews:', len(all_reviews))"
      ],
      "execution_count": null,
      "outputs": [
        {
          "output_type": "stream",
          "text": [
            "Total number of reviews: 50000\n"
          ],
          "name": "stdout"
        }
      ]
    },
    {
      "cell_type": "code",
      "metadata": {
        "colab": {
          "base_uri": "https://localhost:8080/"
        },
        "id": "0YVfS7qj-qEs",
        "outputId": "0ca66c66-b63f-4354-b32a-2317aa807067"
      },
      "source": [
        "train_data = pd.concat((train_data, ),\n",
        "                       axis=0, ignore_index=True)\n",
        "train_data.info()"
      ],
      "execution_count": null,
      "outputs": [
        {
          "output_type": "stream",
          "text": [
            "<class 'pandas.core.frame.DataFrame'>\n",
            "RangeIndex: 50000 entries, 0 to 49999\n",
            "Data columns (total 2 columns):\n",
            " #   Column     Non-Null Count  Dtype \n",
            "---  ------     --------------  ----- \n",
            " 0   review     50000 non-null  object\n",
            " 1   sentiment  50000 non-null  int64 \n",
            "dtypes: int64(1), object(1)\n",
            "memory usage: 781.4+ KB\n"
          ],
          "name": "stdout"
        }
      ]
    },
    {
      "cell_type": "code",
      "metadata": {
        "id": "oDaO4GjT--XM"
      },
      "source": [],
      "execution_count": null,
      "outputs": []
    },
    {
      "cell_type": "markdown",
      "metadata": {
        "id": "D7hex337-_vt"
      },
      "source": [
        "**CHECK CLASS BALANCE**"
      ]
    },
    {
      "cell_type": "code",
      "metadata": {
        "id": "YzoVvIQIAqft"
      },
      "source": [],
      "execution_count": null,
      "outputs": []
    },
    {
      "cell_type": "code",
      "metadata": {
        "colab": {
          "base_uri": "https://localhost:8080/",
          "height": 524
        },
        "id": "fsoBzKdY_C6P",
        "outputId": "4309d6ea-d3d4-4410-a239-1342882b2a55"
      },
      "source": [
        "import seaborn as sns\n",
        "sns.countplot(x='sentiment',data=train_data)"
      ],
      "execution_count": null,
      "outputs": [
        {
          "output_type": "execute_result",
          "data": {
            "text/plain": [
              "<matplotlib.axes._subplots.AxesSubplot at 0x7fe0e5da9b90>"
            ]
          },
          "metadata": {
            "tags": []
          },
          "execution_count": 10
        },
        {
          "output_type": "display_data",
          "data": {
            "image/png": "[encoded data removed]",
            "text/plain": [
              "<Figure size 1152x576 with 1 Axes>"
            ]
          },
          "metadata": {
            "tags": [],
            "needs_background": "light"
          }
        }
      ]
    },
    {
      "cell_type": "code",
      "metadata": {
        "id": "JiyEMHsrBdIf"
      },
      "source": [
        "def clean_review(raw_review: str) -> str:\n",
        "    # 1. Remove HTML\n",
        "    review_text = BeautifulSoup(raw_review, \"lxml\").get_text()\n",
        "    # 2. Remove non-letters\n",
        "    letters_only = REPLACE_WITH_SPACE.sub(\" \", review_text)\n",
        "    # 3. Convert to lower case\n",
        "    lowercase_letters = letters_only.lower()\n",
        "    return lowercase_letters\n",
        "\n",
        "\n",
        "def lemmatize(tokens: list) -> list:\n",
        "    # 1. Lemmatize\n",
        "    tokens = list(map(lemmatizer.lemmatize, tokens))\n",
        "    lemmatized_tokens = list(map(lambda x: lemmatizer.lemmatize(x, \"v\"), tokens))\n",
        "    # 2. Remove stop words\n",
        "    meaningful_words = list(filter(lambda x: not x in stop_words, lemmatized_tokens))\n",
        "    return meaningful_words\n",
        "\n",
        "\n",
        "def preprocess(review: str, total: int, show_progress: bool = True) -> list:\n",
        "    if show_progress:\n",
        "        global counter\n",
        "        counter += 1\n",
        "        print('Processing... %6i/%6i'% (counter, total), end='\\r')\n",
        "    # 1. Clean text\n",
        "    review = clean_review(review)\n",
        "    # 2. Split into individual words\n",
        "    tokens = word_tokenize(review)\n",
        "    # 3. Lemmatize\n",
        "    lemmas = lemmatize(tokens)\n",
        "    # 4. Join the words back into one string separated by space,\n",
        "    # and return the result.\n",
        "    return lemmas"
      ],
      "execution_count": null,
      "outputs": []
    },
    {
      "cell_type": "code",
      "metadata": {
        "colab": {
          "base_uri": "https://localhost:8080/"
        },
        "id": "2RRJEtCGBfg0",
        "outputId": "df640415-67b0-4a57-9a04-3dc94c35654e"
      },
      "source": [
        "import nltk\n",
        "nltk.download('stopwords')"
      ],
      "execution_count": null,
      "outputs": [
        {
          "output_type": "stream",
          "text": [
            "[nltk_data] Downloading package stopwords to /root/nltk_data...\n",
            "[nltk_data]   Unzipping corpora/stopwords.zip.\n"
          ],
          "name": "stdout"
        },
        {
          "output_type": "execute_result",
          "data": {
            "text/plain": [
              "True"
            ]
          },
          "metadata": {
            "tags": []
          },
          "execution_count": 13
        }
      ]
    },
    {
      "cell_type": "code",
      "metadata": {
        "id": "h7Vg0i_pEx8r"
      },
      "source": [
        "counter = 0\n",
        "REPLACE_WITH_SPACE = re.compile(r'[^A-Za-z\\s]')\n",
        "stop_words = set(stopwords.words(\"english\"))\n",
        "lemmatizer = WordNetLemmatizer()"
      ],
      "execution_count": null,
      "outputs": []
    },
    {
      "cell_type": "code",
      "metadata": {
        "colab": {
          "base_uri": "https://localhost:8080/"
        },
        "id": "EDRuNJnzEcQM",
        "outputId": "7a7e46ba-39b5-4f29-8748-052ea021560f"
      },
      "source": [
        "import nltk\n",
        "nltk.download(\"popular\")"
      ],
      "execution_count": null,
      "outputs": [
        {
          "output_type": "stream",
          "text": [
            "[nltk_data] Downloading collection 'popular'\n",
            "[nltk_data]    | \n",
            "[nltk_data]    | Downloading package cmudict to /root/nltk_data...\n",
            "[nltk_data]    |   Unzipping corpora/cmudict.zip.\n",
            "[nltk_data]    | Downloading package gazetteers to /root/nltk_data...\n",
            "[nltk_data]    |   Unzipping corpora/gazetteers.zip.\n",
            "[nltk_data]    | Downloading package genesis to /root/nltk_data...\n",
            "[nltk_data]    |   Unzipping corpora/genesis.zip.\n",
            "[nltk_data]    | Downloading package gutenberg to /root/nltk_data...\n",
            "[nltk_data]    |   Unzipping corpora/gutenberg.zip.\n",
            "[nltk_data]    | Downloading package inaugural to /root/nltk_data...\n",
            "[nltk_data]    |   Unzipping corpora/inaugural.zip.\n",
            "[nltk_data]    | Downloading package movie_reviews to\n",
            "[nltk_data]    |     /root/nltk_data...\n",
            "[nltk_data]    |   Unzipping corpora/movie_reviews.zip.\n",
            "[nltk_data]    | Downloading package names to /root/nltk_data...\n",
            "[nltk_data]    |   Unzipping corpora/names.zip.\n",
            "[nltk_data]    | Downloading package shakespeare to /root/nltk_data...\n",
            "[nltk_data]    |   Unzipping corpora/shakespeare.zip.\n",
            "[nltk_data]    | Downloading package stopwords to /root/nltk_data...\n",
            "[nltk_data]    |   Package stopwords is already up-to-date!\n",
            "[nltk_data]    | Downloading package treebank to /root/nltk_data...\n",
            "[nltk_data]    |   Unzipping corpora/treebank.zip.\n",
            "[nltk_data]    | Downloading package twitter_samples to\n",
            "[nltk_data]    |     /root/nltk_data...\n",
            "[nltk_data]    |   Unzipping corpora/twitter_samples.zip.\n",
            "[nltk_data]    | Downloading package omw to /root/nltk_data...\n",
            "[nltk_data]    |   Unzipping corpora/omw.zip.\n",
            "[nltk_data]    | Downloading package wordnet to /root/nltk_data...\n",
            "[nltk_data]    |   Unzipping corpora/wordnet.zip.\n",
            "[nltk_data]    | Downloading package wordnet_ic to /root/nltk_data...\n",
            "[nltk_data]    |   Unzipping corpora/wordnet_ic.zip.\n",
            "[nltk_data]    | Downloading package words to /root/nltk_data...\n",
            "[nltk_data]    |   Unzipping corpora/words.zip.\n",
            "[nltk_data]    | Downloading package maxent_ne_chunker to\n",
            "[nltk_data]    |     /root/nltk_data...\n",
            "[nltk_data]    |   Unzipping chunkers/maxent_ne_chunker.zip.\n",
            "[nltk_data]    | Downloading package punkt to /root/nltk_data...\n",
            "[nltk_data]    |   Package punkt is already up-to-date!\n",
            "[nltk_data]    | Downloading package snowball_data to\n",
            "[nltk_data]    |     /root/nltk_data...\n",
            "[nltk_data]    | Downloading package averaged_perceptron_tagger to\n",
            "[nltk_data]    |     /root/nltk_data...\n",
            "[nltk_data]    |   Unzipping taggers/averaged_perceptron_tagger.zip.\n",
            "[nltk_data]    | \n",
            "[nltk_data]  Done downloading collection popular\n"
          ],
          "name": "stdout"
        },
        {
          "output_type": "execute_result",
          "data": {
            "text/plain": [
              "True"
            ]
          },
          "metadata": {
            "tags": []
          },
          "execution_count": 17
        }
      ]
    },
    {
      "cell_type": "code",
      "metadata": {
        "colab": {
          "base_uri": "https://localhost:8080/"
        },
        "id": "zo4i3TGKEgAb",
        "outputId": "101d40ef-a1eb-418b-a880-4379726d5d5c"
      },
      "source": [
        "import nltk\n",
        "nltk.download(\"punkt\")"
      ],
      "execution_count": null,
      "outputs": [
        {
          "output_type": "stream",
          "text": [
            "[nltk_data] Downloading package punkt to /root/nltk_data...\n",
            "[nltk_data]   Package punkt is already up-to-date!\n"
          ],
          "name": "stdout"
        },
        {
          "output_type": "execute_result",
          "data": {
            "text/plain": [
              "True"
            ]
          },
          "metadata": {
            "tags": []
          },
          "execution_count": 18
        }
      ]
    },
    {
      "cell_type": "code",
      "metadata": {
        "colab": {
          "base_uri": "https://localhost:8080/"
        },
        "id": "72yU_t1ID1Aa",
        "outputId": "0534a308-b9b0-43a7-a8ff-0392e66ff153"
      },
      "source": [
        "all_reviews = np.array(list(map(lambda x: preprocess(x, len(all_reviews)), all_reviews)))\n",
        "counter = 0"
      ],
      "execution_count": null,
      "outputs": [
        {
          "output_type": "stream",
          "text": [
            ""
          ],
          "name": "stdout"
        }
      ]
    },
    {
      "cell_type": "code",
      "metadata": {
        "id": "Qw_5zmLgGUUw"
      },
      "source": [
        "X_train_data = all_reviews[:train_data.shape[0]]\n",
        "Y_train_data = train_data.sentiment.values"
      ],
      "execution_count": null,
      "outputs": []
    },
    {
      "cell_type": "code",
      "metadata": {
        "id": "4sTo5-VMGeeC"
      },
      "source": [
        "train_data['review_lenght'] = np.array(list(map(len, X_train_data)))\n",
        "median = train_data['review_lenght'].median()\n",
        "mean = train_data['review_lenght'].mean()\n",
        "mode = train_data['review_lenght'].mode()[0]"
      ],
      "execution_count": null,
      "outputs": []
    },
    {
      "cell_type": "code",
      "metadata": {
        "colab": {
          "base_uri": "https://localhost:8080/",
          "height": 527
        },
        "id": "AQ0nkg49HGl3",
        "outputId": "67cddc14-9bfd-4ca6-b405-fdbf096a15d5"
      },
      "source": [
        "fig, ax = plt.subplots()\n",
        "sb.distplot(train_data['review_lenght'], bins=train_data['review_lenght'].max(),\n",
        "            hist_kws={\"alpha\": 0.9, \"color\": \"blue\"}, ax=ax,\n",
        "            kde_kws={\"color\": \"black\", 'linewidth': 3})\n",
        "ax.set_xlim(left=0, right=np.percentile(train_data['review_lenght'], 95))\n",
        "ax.set_xlabel('Words in review')\n",
        "ymax = 0.014\n",
        "plt.ylim(0, ymax)\n",
        "ax.plot([mode, mode], [0, ymax], '--', label=f'mode = {mode:.2f}', linewidth=4)\n",
        "ax.plot([mean, mean], [0, ymax], '--', label=f'mean = {mean:.2f}', linewidth=4)\n",
        "ax.plot([median, median], [0, ymax], '--',\n",
        "        label=f'median = {median:.2f}', linewidth=4)\n",
        "ax.set_title('Words per review distribution', fontsize=20)\n",
        "plt.legend()\n",
        "plt.show()"
      ],
      "execution_count": null,
      "outputs": [
        {
          "output_type": "display_data",
          "data": {
            "image/png": "[encoded data removed]",
            "text/plain": [
              "<Figure size 1152x576 with 1 Axes>"
            ]
          },
          "metadata": {
            "tags": [],
            "needs_background": "light"
          }
        }
      ]
    },
    {
      "cell_type": "code",
      "metadata": {
        "id": "AXxUuNTqHR0-"
      },
      "source": [
        "bigrams = Phrases(sentences=all_reviews)"
      ],
      "execution_count": null,
      "outputs": []
    },
    {
      "cell_type": "code",
      "metadata": {
        "id": "fie86z3qHcSC"
      },
      "source": [
        "trigrams = Phrases(sentences=bigrams[all_reviews])"
      ],
      "execution_count": null,
      "outputs": []
    },
    {
      "cell_type": "code",
      "metadata": {
        "colab": {
          "base_uri": "https://localhost:8080/"
        },
        "id": "Rluu_6jRHvof",
        "outputId": "f68aea03-28b9-4a01-b165-91145fe7dae4"
      },
      "source": [
        "print(bigrams['space station near the solar system'.split()])"
      ],
      "execution_count": null,
      "outputs": [
        {
          "output_type": "stream",
          "text": [
            "['space_station', 'near', 'the', 'solar_system']\n"
          ],
          "name": "stdout"
        }
      ]
    },
    {
      "cell_type": "code",
      "metadata": {
        "id": "c_seK07WHxsf"
      },
      "source": [
        "embedding_vector_size = 256\n",
        "trigrams_model = Word2Vec(\n",
        "    sentences = trigrams[bigrams[all_reviews]],\n",
        "    size = embedding_vector_size,\n",
        "    min_count=3, window=5, workers=4)"
      ],
      "execution_count": null,
      "outputs": []
    },
    {
      "cell_type": "code",
      "metadata": {
        "colab": {
          "base_uri": "https://localhost:8080/"
        },
        "id": "gFL31fM0IJWX",
        "outputId": "6b42c984-826a-4422-a305-e16dfd1b4837"
      },
      "source": [
        "trigrams_model.wv.most_similar('galaxy')"
      ],
      "execution_count": null,
      "outputs": [
        {
          "output_type": "execute_result",
          "data": {
            "text/plain": [
              "[('space_shuttle', 0.9338870048522949),\n",
              " ('satellite', 0.9058701992034912),\n",
              " ('space_station', 0.9014790654182434),\n",
              " ('guide_missile', 0.899503231048584),\n",
              " ('vatican', 0.8973740339279175),\n",
              " ('bomber', 0.8920614719390869),\n",
              " ('continent', 0.8862555623054504),\n",
              " ('apollo', 0.8851248621940613),\n",
              " ('colony', 0.8849301934242249),\n",
              " ('deposit', 0.8821390867233276)]"
            ]
          },
          "metadata": {
            "tags": []
          },
          "execution_count": 27
        }
      ]
    },
    {
      "cell_type": "code",
      "metadata": {
        "colab": {
          "base_uri": "https://localhost:8080/",
          "height": 35
        },
        "id": "6QYw4IrSJRfa",
        "outputId": "7ea55304-c1b0-4d30-8b35-e09530f2e2fe"
      },
      "source": [
        "trigrams_model.wv.doesnt_match(['galaxy', 'starship', 'planet', 'dog'])"
      ],
      "execution_count": null,
      "outputs": [
        {
          "output_type": "execute_result",
          "data": {
            "application/vnd.google.colaboratory.intrinsic+json": {
              "type": "string"
            },
            "text/plain": [
              "'dog'"
            ]
          },
          "metadata": {
            "tags": []
          },
          "execution_count": 28
        }
      ]
    },
    {
      "cell_type": "code",
      "metadata": {
        "colab": {
          "base_uri": "https://localhost:8080/"
        },
        "id": "oLm6t9zyJ-vw",
        "outputId": "c0b0d151-34d0-403c-f97c-38c6e08b447d"
      },
      "source": [
        "def vectorize_data(data, vocab: dict) -> list:\n",
        "    print('Vectorize sentences...', end='\\r')\n",
        "    keys = list(vocab.keys())\n",
        "    filter_unknown = lambda word: vocab.get(word, None) is not None\n",
        "    encode = lambda review: list(map(keys.index, filter(filter_unknown, review)))\n",
        "    vectorized = list(map(encode, data))\n",
        "    print('Vectorize sentences... (done)')\n",
        "    return vectorized\n",
        "\n",
        "print('Convert sentences to sentences with ngrams...', end='\\r')\n",
        "X_data = trigrams[bigrams[X_train_data]]\n",
        "print('Convert sentences to sentences with ngrams... (done)')\n",
        "input_length = 150\n",
        "X_pad = pad_sequences(\n",
        "    sequences=vectorize_data(X_data, vocab=trigrams_model.wv.vocab),\n",
        "    maxlen=input_length,\n",
        "    padding='post')\n",
        "print('Transform sentences to sequences... (done)')"
      ],
      "execution_count": null,
      "outputs": [
        {
          "output_type": "stream",
          "text": [
            "Convert sentences to sentences with ngrams...\rConvert sentences to sentences with ngrams... (done)\n",
            "Vectorize sentences...\rVectorize sentences... (done)\n",
            "Transform sentences to sequences... (done)\n"
          ],
          "name": "stdout"
        }
      ]
    },
    {
      "cell_type": "code",
      "metadata": {
        "id": "470JknEVMPM4"
      },
      "source": [
        "X_train, X_test, y_train, y_test = train_test_split(\n",
        "    X_pad,\n",
        "    Y_train_data,\n",
        "    test_size=0.05,\n",
        "    shuffle=True,\n",
        "    random_state=42)"
      ],
      "execution_count": null,
      "outputs": []
    },
    {
      "cell_type": "code",
      "metadata": {
        "colab": {
          "base_uri": "https://localhost:8080/"
        },
        "id": "BHBw-uyaMc9Y",
        "outputId": "8122404d-dede-4e10-aa05-8c2e6a45667b"
      },
      "source": [
        "def build_model(embedding_matrix: np.ndarray, input_length: int):\n",
        "    model = Sequential()\n",
        "    model.add(Embedding(\n",
        "        input_dim = embedding_matrix.shape[0],\n",
        "        output_dim = embedding_matrix.shape[1],\n",
        "        input_length = input_length,\n",
        "        weights = [embedding_matrix],\n",
        "        trainable=False))\n",
        "    model.add(Bidirectional(LSTM(128)))\n",
        "    model.add(Dropout(0.25))\n",
        "    model.add(Dense(64))\n",
        "    model.add(Dropout(0.3))\n",
        "    model.add(Dense(1, activation='sigmoid'))\n",
        "    model.summary()\n",
        "    return model\n",
        "\n",
        "model = build_model(\n",
        "    embedding_matrix=trigrams_model.wv.vectors,\n",
        "    input_length=input_length)"
      ],
      "execution_count": null,
      "outputs": [
        {
          "output_type": "stream",
          "text": [
            "Model: \"sequential\"\n",
            "_________________________________________________________________\n",
            "Layer (type)                 Output Shape              Param #   \n",
            "=================================================================\n",
            "embedding (Embedding)        (None, 150, 256)          15388928  \n",
            "_________________________________________________________________\n",
            "bidirectional (Bidirectional (None, 256)               394240    \n",
            "_________________________________________________________________\n",
            "dropout (Dropout)            (None, 256)               0         \n",
            "_________________________________________________________________\n",
            "dense (Dense)                (None, 64)                16448     \n",
            "_________________________________________________________________\n",
            "dropout_1 (Dropout)          (None, 64)                0         \n",
            "_________________________________________________________________\n",
            "dense_1 (Dense)              (None, 1)                 65        \n",
            "=================================================================\n",
            "Total params: 15,799,681\n",
            "Trainable params: 410,753\n",
            "Non-trainable params: 15,388,928\n",
            "_________________________________________________________________\n"
          ],
          "name": "stdout"
        }
      ]
    },
    {
      "cell_type": "code",
      "metadata": {
        "colab": {
          "base_uri": "https://localhost:8080/"
        },
        "id": "4Scr4WswMy5n",
        "outputId": "e21fb18e-a59b-4349-cfff-a9eb38df3bdb"
      },
      "source": [
        "model.compile(\n",
        "    loss=\"binary_crossentropy\",\n",
        "    optimizer='adam',\n",
        "    metrics=['accuracy'])\n",
        "\n",
        "history = model.fit(\n",
        "    x=X_train,\n",
        "    y=y_train,\n",
        "    validation_data=(X_test, y_test),\n",
        "    batch_size=100,\n",
        "    epochs=20)"
      ],
      "execution_count": null,
      "outputs": [
        {
          "output_type": "stream",
          "text": [
            "Epoch 1/20\n",
            "475/475 [==============================] - 47s 28ms/step - loss: 0.6704 - accuracy: 0.5939 - val_loss: 0.5099 - val_accuracy: 0.7576\n",
            "Epoch 2/20\n",
            "475/475 [==============================] - 13s 27ms/step - loss: 0.5053 - accuracy: 0.7580 - val_loss: 0.4444 - val_accuracy: 0.7900\n",
            "Epoch 3/20\n",
            "475/475 [==============================] - 13s 27ms/step - loss: 0.4465 - accuracy: 0.7914 - val_loss: 0.4183 - val_accuracy: 0.8036\n",
            "Epoch 4/20\n",
            "475/475 [==============================] - 13s 27ms/step - loss: 0.4035 - accuracy: 0.8184 - val_loss: 0.4129 - val_accuracy: 0.8032\n",
            "Epoch 5/20\n",
            "475/475 [==============================] - 13s 27ms/step - loss: 0.3695 - accuracy: 0.8380 - val_loss: 0.3949 - val_accuracy: 0.8204\n",
            "Epoch 6/20\n",
            "475/475 [==============================] - 13s 27ms/step - loss: 0.3385 - accuracy: 0.8517 - val_loss: 0.3890 - val_accuracy: 0.8256\n",
            "Epoch 7/20\n",
            "475/475 [==============================] - 13s 28ms/step - loss: 0.3120 - accuracy: 0.8651 - val_loss: 0.4035 - val_accuracy: 0.8244\n",
            "Epoch 8/20\n",
            "475/475 [==============================] - 13s 28ms/step - loss: 0.2743 - accuracy: 0.8869 - val_loss: 0.4352 - val_accuracy: 0.8160\n",
            "Epoch 9/20\n",
            "475/475 [==============================] - 13s 28ms/step - loss: 0.2432 - accuracy: 0.8994 - val_loss: 0.4361 - val_accuracy: 0.8276\n",
            "Epoch 10/20\n",
            "475/475 [==============================] - 13s 28ms/step - loss: 0.1998 - accuracy: 0.9182 - val_loss: 0.5108 - val_accuracy: 0.8192\n",
            "Epoch 11/20\n",
            "475/475 [==============================] - 13s 28ms/step - loss: 0.1755 - accuracy: 0.9292 - val_loss: 0.4906 - val_accuracy: 0.8136\n",
            "Epoch 12/20\n",
            "475/475 [==============================] - 13s 28ms/step - loss: 0.1424 - accuracy: 0.9441 - val_loss: 0.5208 - val_accuracy: 0.8232\n",
            "Epoch 13/20\n",
            "475/475 [==============================] - 13s 28ms/step - loss: 0.1241 - accuracy: 0.9527 - val_loss: 0.6127 - val_accuracy: 0.8096\n",
            "Epoch 14/20\n",
            "475/475 [==============================] - 14s 29ms/step - loss: 0.1157 - accuracy: 0.9554 - val_loss: 0.6603 - val_accuracy: 0.8100\n",
            "Epoch 15/20\n",
            "475/475 [==============================] - 14s 29ms/step - loss: 0.0917 - accuracy: 0.9666 - val_loss: 0.7235 - val_accuracy: 0.8120\n",
            "Epoch 16/20\n",
            "475/475 [==============================] - 14s 29ms/step - loss: 0.0779 - accuracy: 0.9716 - val_loss: 0.6948 - val_accuracy: 0.8052\n",
            "Epoch 17/20\n",
            "475/475 [==============================] - 14s 29ms/step - loss: 0.0706 - accuracy: 0.9746 - val_loss: 0.7622 - val_accuracy: 0.8104\n",
            "Epoch 18/20\n",
            "475/475 [==============================] - 14s 28ms/step - loss: 0.0568 - accuracy: 0.9797 - val_loss: 0.7800 - val_accuracy: 0.8012\n",
            "Epoch 19/20\n",
            "475/475 [==============================] - 13s 28ms/step - loss: 0.0576 - accuracy: 0.9786 - val_loss: 0.8360 - val_accuracy: 0.8088\n",
            "Epoch 20/20\n",
            "475/475 [==============================] - 14s 29ms/step - loss: 0.0579 - accuracy: 0.9793 - val_loss: 0.8889 - val_accuracy: 0.8068\n"
          ],
          "name": "stdout"
        }
      ]
    },
    {
      "cell_type": "code",
      "metadata": {
        "id": "4FNQPjOWHeDc"
      },
      "source": [
        "def plot_confusion_matrix(y_true, y_pred, ax, class_names, vmax=None,\n",
        "                          normed=True, title='Confusion matrix'):\n",
        "    matrix = confusion_matrix(y_true,y_pred)\n",
        "    if normed:\n",
        "        matrix = matrix.astype('float') / matrix.sum(axis=1)[:, np.newaxis]\n",
        "    sb.heatmap(matrix, vmax=vmax, annot=True, square=True, ax=ax,\n",
        "               cmap=plt.cm.Blues_r, cbar=False, linecolor='black',\n",
        "               linewidths=1, xticklabels=class_names)\n",
        "    ax.set_title(title, y=1.20, fontsize=16)\n",
        "    #ax.set_ylabel('True labels', fontsize=12)\n",
        "    ax.set_xlabel('Predicted labels', y=1.10, fontsize=12)\n",
        "    ax.set_yticklabels(class_names, rotation=0)"
      ],
      "execution_count": null,
      "outputs": []
    },
    {
      "cell_type": "code",
      "metadata": {
        "id": "tYeAEg0IHiqH"
      },
      "source": [
        "y_train_pred = model.predict_classes(X_train)\n",
        "y_test_pred = model.predict_classes(X_test)"
      ],
      "execution_count": null,
      "outputs": []
    },
    {
      "cell_type": "code",
      "metadata": {
        "colab": {
          "base_uri": "https://localhost:8080/",
          "height": 493
        },
        "id": "EzvDPRqtHro4",
        "outputId": "4231b304-8c8d-474f-dc5c-a9de19aeeb01"
      },
      "source": [
        "fig, (axis1, axis2) = plt.subplots(nrows=1, ncols=2)\n",
        "plot_confusion_matrix(y_train, y_train_pred, ax=axis1,\n",
        "                      title='Confusion matrix (train data)',\n",
        "                      class_names=['Positive', 'Negative'])\n",
        "plot_confusion_matrix(y_test, y_test_pred, ax=axis2,\n",
        "                      title='Confusion matrix (test data)',\n",
        "                      class_names=['Positive', 'Negative'])"
      ],
      "execution_count": null,
      "outputs": [
        {
          "output_type": "display_data",
          "data": {
            "image/png": "[encoded data removed]",
            "text/plain": [
              "<Figure size 1152x576 with 2 Axes>"
            ]
          },
          "metadata": {
            "tags": [],
            "needs_background": "light"
          }
        }
      ]
    },
    {
      "cell_type": "code",
      "metadata": {
        "colab": {
          "base_uri": "https://localhost:8080/",
          "height": 415
        },
        "id": "6eP_nTCUH5u9",
        "outputId": "932c40ab-e24b-4b90-abe6-e28c119e6784"
      },
      "source": [
        "fig, (axis1, axis2) = plt.subplots(nrows=1, ncols=2, figsize=(16,6))\n",
        "\n",
        "# summarize history for accuracy\n",
        "axis1.plot(history.history['accuracy'], label='Train', linewidth=3)\n",
        "axis1.plot(history.history['val_accuracy'], label='Validation', linewidth=3)\n",
        "axis1.set_title('Model accuracy', fontsize=16)\n",
        "axis1.set_ylabel('accuracy')\n",
        "axis1.set_xlabel('epoch')\n",
        "axis1.legend(loc='upper left')\n",
        "\n",
        "# summarize history for loss\n",
        "axis2.plot(history.history['loss'], label='Train', linewidth=3)\n",
        "axis2.plot(history.history['val_loss'], label='Validation', linewidth=3)\n",
        "axis2.set_title('Model loss', fontsize=16)\n",
        "axis2.set_ylabel('loss')\n",
        "axis2.set_xlabel('epoch')\n",
        "axis2.legend(loc='upper right')\n",
        "plt.show()"
      ],
      "execution_count": null,
      "outputs": [
        {
          "output_type": "display_data",
          "data": {
            "image/png": "[encoded data removed]",
            "text/plain": [
              "<Figure size 1152x432 with 2 Axes>"
            ]
          },
          "metadata": {
            "tags": [],
            "needs_background": "light"
          }
        }
      ]
    },
    {
      "cell_type": "code",
      "metadata": {
        "colab": {
          "base_uri": "https://localhost:8080/"
        },
        "id": "8M56aRXCINCF",
        "outputId": "918083dd-08f6-4067-db4f-e7cd67245c6e"
      },
      "source": [
        "model.evaluate(X_test,y_test)"
      ],
      "execution_count": null,
      "outputs": [
        {
          "output_type": "stream",
          "text": [
            "79/79 [==============================] - 1s 11ms/step - loss: 0.8889 - accuracy: 0.8068\n"
          ],
          "name": "stdout"
        },
        {
          "output_type": "execute_result",
          "data": {
            "text/plain": [
              "[0.8888991475105286, 0.8068000078201294]"
            ]
          },
          "metadata": {
            "tags": []
          },
          "execution_count": 38
        }
      ]
    },
    {
      "cell_type": "code",
      "metadata": {
        "id": "kI9iQ9lzN6eE"
      },
      "source": [
        "model.save_weights('/content/drive/MyDrive/ISR Dataset/imdb_weights_Word2Vec_Bilstm.hdf5')"
      ],
      "execution_count": null,
      "outputs": []
    }
  ]
}